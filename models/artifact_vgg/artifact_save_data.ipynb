{
 "cells": [
  {
   "cell_type": "code",
   "id": "initial_id",
   "metadata": {
    "collapsed": true,
    "ExecuteTime": {
     "end_time": "2024-04-23T15:20:57.685818Z",
     "start_time": "2024-04-23T15:20:55.642172Z"
    }
   },
   "source": [
    "import tensorflow as tf\n",
    "import keras\n",
    "import numpy as np"
   ],
   "outputs": [],
   "execution_count": 1
  },
  {
   "metadata": {
    "ExecuteTime": {
     "end_time": "2024-04-23T15:20:57.701821Z",
     "start_time": "2024-04-23T15:20:57.687817Z"
    }
   },
   "cell_type": "code",
   "source": [
    "def load_data_artifact(dir_path):\n",
    "    train, valid = tf.keras.preprocessing.image_dataset_from_directory(\n",
    "        dir_path,\n",
    "        label_mode='binary',\n",
    "        image_size=[200, 200],\n",
    "        validation_split=0.2,\n",
    "        subset='both',\n",
    "        shuffle=True,\n",
    "        seed=42,\n",
    "        interpolation='area',\n",
    "        batch_size=256\n",
    "    )\n",
    "\n",
    "    return train, valid"
   ],
   "id": "f2304ea013cf4afd",
   "outputs": [],
   "execution_count": 2
  },
  {
   "metadata": {
    "ExecuteTime": {
     "end_time": "2024-04-23T15:22:54.925656Z",
     "start_time": "2024-04-23T15:20:57.705821Z"
    }
   },
   "cell_type": "code",
   "source": "train, valid = load_data_artifact(\"../../datasets/artifact\")",
   "id": "4f6ce307618ee7a4",
   "outputs": [
    {
     "name": "stdout",
     "output_type": "stream",
     "text": [
      "Found 1934329 files belonging to 2 classes.\n",
      "Using 1547464 files for training.\n",
      "Using 386865 files for validation.\n"
     ]
    }
   ],
   "execution_count": 3
  },
  {
   "metadata": {
    "ExecuteTime": {
     "end_time": "2024-04-23T15:23:15.268747Z",
     "start_time": "2024-04-23T15:22:54.927659Z"
    }
   },
   "cell_type": "code",
   "source": [
    "train_batch = train.take(30)\n",
    "valid_batch = valid.take(30)\n",
    "\n",
    "train_x = np.concatenate([x for x, y in train_batch], axis=0)\n",
    "valid_x = np.concatenate([x for x, y in valid_batch], axis=0)\n",
    "\n",
    "train_y = np.concatenate([y for x, y in train_batch], axis=0)\n",
    "valid_y = np.concatenate([y for x, y in valid_batch], axis=0)\n",
    "\n",
    "del train_batch, valid_batch"
   ],
   "id": "abe40775d1747d7a",
   "outputs": [],
   "execution_count": 4
  },
  {
   "metadata": {
    "ExecuteTime": {
     "end_time": "2024-04-23T15:24:24.334976Z",
     "start_time": "2024-04-23T15:24:23.649833Z"
    }
   },
   "cell_type": "code",
   "source": [
    "model = keras.applications.VGG19(False, 'imagenet', input_shape=(200, 200, 3))\n",
    "model.trainable = False\n",
    "\n",
    "# adam = tf.keras.optimizers.Adam(learning_rate=1e-5)\n",
    "# model = tf.keras.Model(inputs=vgg.input, outputs=vgg.output)\n",
    "# model.compile(\n",
    "#     optimizer=adam,\n",
    "#     loss='binary_crossentropy',\n",
    "#     metrics=['accuracy', 'mse']\n",
    "# )"
   ],
   "id": "530570ac2d7ad7dd",
   "outputs": [],
   "execution_count": 5
  },
  {
   "metadata": {
    "ExecuteTime": {
     "end_time": "2024-04-23T15:25:11.239376Z",
     "start_time": "2024-04-23T15:24:26.757040Z"
    }
   },
   "cell_type": "code",
   "source": "data_train = model.predict(train_x, batch_size=1)",
   "id": "f56a771c3163ff93",
   "outputs": [
    {
     "name": "stdout",
     "output_type": "stream",
     "text": [
      "7680/7680 [==============================] - 34s 4ms/step\n"
     ]
    }
   ],
   "execution_count": 6
  },
  {
   "metadata": {
    "ExecuteTime": {
     "end_time": "2024-04-23T15:25:54.423027Z",
     "start_time": "2024-04-23T15:25:11.241376Z"
    }
   },
   "cell_type": "code",
   "source": "data_valid = model.predict(valid_x, batch_size=1)",
   "id": "2f52907e8ebc4fe6",
   "outputs": [
    {
     "name": "stdout",
     "output_type": "stream",
     "text": [
      "7680/7680 [==============================] - 33s 4ms/step\n"
     ]
    }
   ],
   "execution_count": 7
  },
  {
   "metadata": {
    "ExecuteTime": {
     "end_time": "2024-04-23T15:25:57.200117Z",
     "start_time": "2024-04-23T15:25:57.185115Z"
    }
   },
   "cell_type": "code",
   "source": "print(data_train.shape, type(data_train))",
   "id": "319c027acf2315c8",
   "outputs": [
    {
     "name": "stdout",
     "output_type": "stream",
     "text": [
      "(7680, 6, 6, 512) <class 'numpy.ndarray'>\n"
     ]
    }
   ],
   "execution_count": 8
  },
  {
   "metadata": {
    "ExecuteTime": {
     "end_time": "2024-04-23T15:26:01.188664Z",
     "start_time": "2024-04-23T15:26:00.046665Z"
    }
   },
   "cell_type": "code",
   "source": [
    "np.save('train_x.npy', data_train)\n",
    "np.save('valid_x.npy', data_valid)\n",
    "\n",
    "np.save('train_y.npy', train_y)\n",
    "np.save('valid_y.npy', valid_y)"
   ],
   "id": "4dc4e265ed4e5535",
   "outputs": [],
   "execution_count": 9
  }
 ],
 "metadata": {
  "kernelspec": {
   "display_name": "Python 3",
   "language": "python",
   "name": "python3"
  },
  "language_info": {
   "codemirror_mode": {
    "name": "ipython",
    "version": 2
   },
   "file_extension": ".py",
   "mimetype": "text/x-python",
   "name": "python",
   "nbconvert_exporter": "python",
   "pygments_lexer": "ipython2",
   "version": "2.7.6"
  }
 },
 "nbformat": 4,
 "nbformat_minor": 5
}
