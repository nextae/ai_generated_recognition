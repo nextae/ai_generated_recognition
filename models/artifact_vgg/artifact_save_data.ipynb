{
 "cells": [
  {
   "cell_type": "code",
   "id": "initial_id",
   "metadata": {
    "collapsed": true,
    "ExecuteTime": {
     "end_time": "2024-05-22T13:30:34.659034Z",
     "start_time": "2024-05-22T13:30:31.074036Z"
    }
   },
   "source": [
    "import tensorflow as tf\n",
    "import keras\n",
    "import numpy as np"
   ],
   "outputs": [],
   "execution_count": 1
  },
  {
   "metadata": {
    "ExecuteTime": {
     "end_time": "2024-05-22T13:30:34.675033Z",
     "start_time": "2024-05-22T13:30:34.662035Z"
    }
   },
   "cell_type": "code",
   "source": [
    "def load_data_artifact(dir_path):\n",
    "    train, valid = tf.keras.preprocessing.image_dataset_from_directory(\n",
    "        dir_path,\n",
    "        label_mode='binary',\n",
    "        image_size=[200, 200],\n",
    "        validation_split=0.2,\n",
    "        subset='both',\n",
    "        shuffle=True,\n",
    "        seed=42,\n",
    "        interpolation='area',\n",
    "        batch_size=256\n",
    "    )\n",
    "\n",
    "    return train, valid"
   ],
   "id": "f2304ea013cf4afd",
   "outputs": [],
   "execution_count": 2
  },
  {
   "metadata": {
    "ExecuteTime": {
     "end_time": "2024-05-22T13:32:31.121061Z",
     "start_time": "2024-05-22T13:30:34.677034Z"
    }
   },
   "cell_type": "code",
   "source": "train, valid = load_data_artifact(\"../../datasets/artifact\")",
   "id": "4f6ce307618ee7a4",
   "outputs": [
    {
     "name": "stdout",
     "output_type": "stream",
     "text": [
      "Found 1934329 files belonging to 2 classes.\n",
      "Using 1547464 files for training.\n",
      "Using 386865 files for validation.\n"
     ]
    }
   ],
   "execution_count": 3
  },
  {
   "metadata": {
    "ExecuteTime": {
     "end_time": "2024-05-22T13:32:31.136060Z",
     "start_time": "2024-05-22T13:32:31.123061Z"
    }
   },
   "cell_type": "code",
   "source": [
    "train_batch = train.take(32)\n",
    "valid_batch = valid.take(16)"
   ],
   "id": "abe40775d1747d7a",
   "outputs": [],
   "execution_count": 4
  },
  {
   "metadata": {
    "ExecuteTime": {
     "end_time": "2024-05-22T13:32:31.277057Z",
     "start_time": "2024-05-22T13:32:31.138059Z"
    }
   },
   "cell_type": "code",
   "source": [
    "train_batch = train_batch.map(lambda x, y: (tf.keras.applications.vgg19.preprocess_input(x), y))\n",
    "valid_batch = valid_batch.map(lambda x, y: (tf.keras.applications.vgg19.preprocess_input(x), y))"
   ],
   "id": "feb5cff20d9cad4a",
   "outputs": [],
   "execution_count": 5
  },
  {
   "metadata": {
    "ExecuteTime": {
     "end_time": "2024-05-22T13:32:31.926059Z",
     "start_time": "2024-05-22T13:32:31.279060Z"
    }
   },
   "cell_type": "code",
   "source": [
    "model = keras.applications.VGG19(False, 'imagenet', input_shape=(200, 200, 3))\n",
    "model.trainable = False"
   ],
   "id": "530570ac2d7ad7dd",
   "outputs": [],
   "execution_count": 6
  },
  {
   "metadata": {
    "ExecuteTime": {
     "end_time": "2024-05-22T13:32:31.958058Z",
     "start_time": "2024-05-22T13:32:31.928058Z"
    }
   },
   "cell_type": "code",
   "source": "model.summary()",
   "id": "efd391a903699e0",
   "outputs": [
    {
     "name": "stdout",
     "output_type": "stream",
     "text": [
      "Model: \"vgg19\"\n",
      "_________________________________________________________________\n",
      " Layer (type)                Output Shape              Param #   \n",
      "=================================================================\n",
      " input_1 (InputLayer)        [(None, 200, 200, 3)]     0         \n",
      "                                                                 \n",
      " block1_conv1 (Conv2D)       (None, 200, 200, 64)      1792      \n",
      "                                                                 \n",
      " block1_conv2 (Conv2D)       (None, 200, 200, 64)      36928     \n",
      "                                                                 \n",
      " block1_pool (MaxPooling2D)  (None, 100, 100, 64)      0         \n",
      "                                                                 \n",
      " block2_conv1 (Conv2D)       (None, 100, 100, 128)     73856     \n",
      "                                                                 \n",
      " block2_conv2 (Conv2D)       (None, 100, 100, 128)     147584    \n",
      "                                                                 \n",
      " block2_pool (MaxPooling2D)  (None, 50, 50, 128)       0         \n",
      "                                                                 \n",
      " block3_conv1 (Conv2D)       (None, 50, 50, 256)       295168    \n",
      "                                                                 \n",
      " block3_conv2 (Conv2D)       (None, 50, 50, 256)       590080    \n",
      "                                                                 \n",
      " block3_conv3 (Conv2D)       (None, 50, 50, 256)       590080    \n",
      "                                                                 \n",
      " block3_conv4 (Conv2D)       (None, 50, 50, 256)       590080    \n",
      "                                                                 \n",
      " block3_pool (MaxPooling2D)  (None, 25, 25, 256)       0         \n",
      "                                                                 \n",
      " block4_conv1 (Conv2D)       (None, 25, 25, 512)       1180160   \n",
      "                                                                 \n",
      " block4_conv2 (Conv2D)       (None, 25, 25, 512)       2359808   \n",
      "                                                                 \n",
      " block4_conv3 (Conv2D)       (None, 25, 25, 512)       2359808   \n",
      "                                                                 \n",
      " block4_conv4 (Conv2D)       (None, 25, 25, 512)       2359808   \n",
      "                                                                 \n",
      " block4_pool (MaxPooling2D)  (None, 12, 12, 512)       0         \n",
      "                                                                 \n",
      " block5_conv1 (Conv2D)       (None, 12, 12, 512)       2359808   \n",
      "                                                                 \n",
      " block5_conv2 (Conv2D)       (None, 12, 12, 512)       2359808   \n",
      "                                                                 \n",
      " block5_conv3 (Conv2D)       (None, 12, 12, 512)       2359808   \n",
      "                                                                 \n",
      " block5_conv4 (Conv2D)       (None, 12, 12, 512)       2359808   \n",
      "                                                                 \n",
      " block5_pool (MaxPooling2D)  (None, 6, 6, 512)         0         \n",
      "                                                                 \n",
      "=================================================================\n",
      "Total params: 20,024,384\n",
      "Trainable params: 0\n",
      "Non-trainable params: 20,024,384\n",
      "_________________________________________________________________\n"
     ]
    }
   ],
   "execution_count": 7
  },
  {
   "metadata": {
    "ExecuteTime": {
     "end_time": "2024-05-22T13:32:31.974059Z",
     "start_time": "2024-05-22T13:32:31.960060Z"
    }
   },
   "cell_type": "code",
   "source": [
    "def extract_features(dataset, model):\n",
    "    all_features = []\n",
    "    all_labels = []\n",
    "    for images, labels in dataset:\n",
    "        batch_features = model.predict(images)\n",
    "        all_features.append(batch_features)\n",
    "        all_labels.append(labels.numpy())\n",
    "    features = np.concatenate(all_features, axis=0)\n",
    "    labels = np.concatenate(all_labels, axis=0)\n",
    "    return features, labels"
   ],
   "id": "7f5c06f93f37ba83",
   "outputs": [],
   "execution_count": 8
  },
  {
   "metadata": {
    "ExecuteTime": {
     "end_time": "2024-05-22T13:32:58.836349Z",
     "start_time": "2024-05-22T13:32:31.978061Z"
    }
   },
   "cell_type": "code",
   "source": "train_x, train_y = extract_features(train_batch, model)",
   "id": "8026ebd426e684bc",
   "outputs": [
    {
     "name": "stdout",
     "output_type": "stream",
     "text": [
      "8/8 [==============================] - 1s 18ms/step\n",
      "8/8 [==============================] - 0s 41ms/step\n",
      "8/8 [==============================] - 0s 35ms/step\n",
      "8/8 [==============================] - 0s 13ms/step\n",
      "8/8 [==============================] - 0s 18ms/step\n",
      "8/8 [==============================] - 0s 11ms/step\n",
      "8/8 [==============================] - 0s 14ms/step\n",
      "8/8 [==============================] - 0s 9ms/step\n",
      "8/8 [==============================] - 0s 9ms/step\n",
      "8/8 [==============================] - 0s 8ms/step\n",
      "8/8 [==============================] - 0s 8ms/step\n",
      "8/8 [==============================] - 0s 7ms/step\n",
      "8/8 [==============================] - 0s 8ms/step\n",
      "8/8 [==============================] - 0s 7ms/step\n",
      "8/8 [==============================] - 0s 8ms/step\n",
      "8/8 [==============================] - 0s 8ms/step\n",
      "8/8 [==============================] - 0s 8ms/step\n",
      "8/8 [==============================] - 0s 11ms/step\n",
      "8/8 [==============================] - 0s 8ms/step\n",
      "8/8 [==============================] - 0s 8ms/step\n",
      "8/8 [==============================] - 0s 7ms/step\n",
      "8/8 [==============================] - 0s 8ms/step\n",
      "8/8 [==============================] - 0s 9ms/step\n",
      "8/8 [==============================] - 0s 8ms/step\n",
      "8/8 [==============================] - 0s 9ms/step\n",
      "8/8 [==============================] - 0s 8ms/step\n",
      "8/8 [==============================] - 0s 8ms/step\n",
      "8/8 [==============================] - 0s 8ms/step\n",
      "8/8 [==============================] - 0s 8ms/step\n",
      "8/8 [==============================] - 0s 7ms/step\n",
      "8/8 [==============================] - 0s 7ms/step\n",
      "8/8 [==============================] - 0s 9ms/step\n"
     ]
    }
   ],
   "execution_count": 9
  },
  {
   "metadata": {
    "ExecuteTime": {
     "end_time": "2024-05-22T13:33:12.168328Z",
     "start_time": "2024-05-22T13:32:58.838351Z"
    }
   },
   "cell_type": "code",
   "source": "valid_x, valid_y = extract_features(valid_batch, model)",
   "id": "f8cc4cb92c13c71",
   "outputs": [
    {
     "name": "stdout",
     "output_type": "stream",
     "text": [
      "8/8 [==============================] - 0s 31ms/step\n",
      "8/8 [==============================] - 0s 24ms/step\n",
      "8/8 [==============================] - 0s 13ms/step\n",
      "8/8 [==============================] - 0s 7ms/step\n",
      "8/8 [==============================] - 0s 15ms/step\n",
      "8/8 [==============================] - 0s 12ms/step\n",
      "8/8 [==============================] - 0s 9ms/step\n",
      "8/8 [==============================] - 0s 7ms/step\n",
      "8/8 [==============================] - 0s 8ms/step\n",
      "8/8 [==============================] - 0s 7ms/step\n",
      "8/8 [==============================] - 0s 8ms/step\n",
      "8/8 [==============================] - 0s 8ms/step\n",
      "8/8 [==============================] - 0s 7ms/step\n",
      "8/8 [==============================] - 0s 8ms/step\n",
      "8/8 [==============================] - 0s 8ms/step\n",
      "8/8 [==============================] - 0s 9ms/step\n"
     ]
    }
   ],
   "execution_count": 10
  },
  {
   "metadata": {
    "ExecuteTime": {
     "end_time": "2024-05-22T13:33:12.964329Z",
     "start_time": "2024-05-22T13:33:12.170329Z"
    }
   },
   "cell_type": "code",
   "source": [
    "np.save('train_x.npy', train_x)\n",
    "np.save('train_y.npy', train_y)\n",
    "np.save('valid_x.npy', valid_x)\n",
    "np.save('valid_y.npy', valid_y)"
   ],
   "id": "814b3a9d4578d448",
   "outputs": [],
   "execution_count": 11
  }
 ],
 "metadata": {
  "kernelspec": {
   "display_name": "Python 3",
   "language": "python",
   "name": "python3"
  },
  "language_info": {
   "codemirror_mode": {
    "name": "ipython",
    "version": 2
   },
   "file_extension": ".py",
   "mimetype": "text/x-python",
   "name": "python",
   "nbconvert_exporter": "python",
   "pygments_lexer": "ipython2",
   "version": "2.7.6"
  }
 },
 "nbformat": 4,
 "nbformat_minor": 5
}
