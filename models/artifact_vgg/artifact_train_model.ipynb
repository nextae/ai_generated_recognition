{
 "cells": [
  {
   "cell_type": "code",
   "execution_count": 1,
   "id": "initial_id",
   "metadata": {
    "ExecuteTime": {
     "end_time": "2024-05-23T16:08:18.687096Z",
     "start_time": "2024-05-23T16:08:16.576082Z"
    },
    "collapsed": true
   },
   "outputs": [],
   "source": [
    "import keras\n",
    "import numpy as np\n",
    "import tensorflow as tf\n",
    "from keras import layers\n",
    "from tqdm import tqdm"
   ]
  },
  {
   "cell_type": "code",
   "execution_count": 2,
   "id": "ae5addfd7d89ddc9",
   "metadata": {
    "ExecuteTime": {
     "end_time": "2024-05-23T16:08:18.702094Z",
     "start_time": "2024-05-23T16:08:18.689097Z"
    }
   },
   "outputs": [],
   "source": [
    "def load_data(data_range, data_type):\n",
    "    data_x = []\n",
    "    data_y = []\n",
    "    for i in range(*data_range):\n",
    "        data_x.append(np.load(f\"../../datasets/artifact_features/vgg/{data_type}_x_{i}.npy\"))\n",
    "        data_y.append(np.load(f\"../../datasets/artifact_features/vgg/{data_type}_y_{i}.npy\"))\n",
    "    data_x = np.concatenate(np.array(data_x), axis=0)\n",
    "    data_y = np.concatenate(np.array(data_y), axis=0)\n",
    "    return data_x, data_y"
   ]
  },
  {
   "cell_type": "code",
   "execution_count": 3,
   "id": "ff6b59a766cb4cbc",
   "metadata": {
    "ExecuteTime": {
     "end_time": "2024-05-23T16:08:23.016026Z",
     "start_time": "2024-05-23T16:08:18.704096Z"
    }
   },
   "outputs": [],
   "source": [
    "# train_x, train_y = load_data((0, 2), \"train\")\n",
    "valid_x, valid_y = load_data((0, 1), \"valid\")"
   ]
  },
  {
   "cell_type": "code",
   "execution_count": 4,
   "id": "1502bad2b0d05c6b",
   "metadata": {
    "ExecuteTime": {
     "end_time": "2024-05-23T16:07:40.820609Z",
     "start_time": "2024-05-23T16:07:40.156606Z"
    }
   },
   "outputs": [
    {
     "ename": "NameError",
     "evalue": "name 'train_x' is not defined",
     "output_type": "error",
     "traceback": [
      "\u001b[1;31m---------------------------------------------------------------------------\u001b[0m",
      "\u001b[1;31mNameError\u001b[0m                                 Traceback (most recent call last)",
      "Cell \u001b[1;32mIn[4], line 1\u001b[0m\n\u001b[1;32m----> 1\u001b[0m \u001b[38;5;28mprint\u001b[39m(\u001b[38;5;124mf\u001b[39m\u001b[38;5;124m'\u001b[39m\u001b[38;5;124mTraining x shape: \u001b[39m\u001b[38;5;132;01m{\u001b[39;00mtrain_x\u001b[38;5;241m.\u001b[39mshape\u001b[38;5;132;01m}\u001b[39;00m\u001b[38;5;130;01m\\n\u001b[39;00m\u001b[38;5;124m'\u001b[39m\n\u001b[0;32m      2\u001b[0m       \u001b[38;5;124mf\u001b[39m\u001b[38;5;124m'\u001b[39m\u001b[38;5;124mTraining y shape: \u001b[39m\u001b[38;5;132;01m{\u001b[39;00mtrain_y\u001b[38;5;241m.\u001b[39mshape\u001b[38;5;132;01m}\u001b[39;00m\u001b[38;5;130;01m\\n\u001b[39;00m\u001b[38;5;124m'\u001b[39m\n\u001b[0;32m      3\u001b[0m       \u001b[38;5;124mf\u001b[39m\u001b[38;5;124m'\u001b[39m\u001b[38;5;124mValid x shape: \u001b[39m\u001b[38;5;132;01m{\u001b[39;00mvalid_x\u001b[38;5;241m.\u001b[39mshape\u001b[38;5;132;01m}\u001b[39;00m\u001b[38;5;130;01m\\n\u001b[39;00m\u001b[38;5;124m'\u001b[39m\n\u001b[0;32m      4\u001b[0m       \u001b[38;5;124mf\u001b[39m\u001b[38;5;124m'\u001b[39m\u001b[38;5;124mValid y shape: \u001b[39m\u001b[38;5;132;01m{\u001b[39;00mvalid_y\u001b[38;5;241m.\u001b[39mshape\u001b[38;5;132;01m}\u001b[39;00m\u001b[38;5;124m'\u001b[39m)\n",
      "\u001b[1;31mNameError\u001b[0m: name 'train_x' is not defined"
     ]
    }
   ],
   "source": [
    "print(f'Training x shape: {train_x.shape}\\n'\n",
    "      f'Training y shape: {train_y.shape}\\n'\n",
    "      f'Valid x shape: {valid_x.shape}\\n'\n",
    "      f'Valid y shape: {valid_y.shape}')"
   ]
  },
  {
   "cell_type": "code",
   "execution_count": 11,
   "id": "53c5ea4f2539402c",
   "metadata": {
    "ExecuteTime": {
     "end_time": "2024-05-23T16:08:23.031027Z",
     "start_time": "2024-05-23T16:08:23.019026Z"
    }
   },
   "outputs": [],
   "source": [
    "def create_dense():\n",
    "    model = keras.models.Sequential()\n",
    "    model.add(layers.Flatten(input_shape=(6,6,512)))\n",
    "    model.add(layers.Dropout(0.25))\n",
    "    model.add(layers.Dense(2048, activation='elu', kernel_regularizer='l1_l2'))\n",
    "    model.add(layers.Dropout(0.5))\n",
    "    model.add(layers.Dense(2048, activation='elu', kernel_regularizer='l1_l2'))\n",
    "    model.add(layers.Dropout(0.5))\n",
    "    model.add(layers.Dense(1, activation='sigmoid'))\n",
    "\n",
    "    adam = tf.keras.optimizers.Adam(learning_rate=1e-4)\n",
    "    model.compile(\n",
    "        optimizer=adam,\n",
    "        loss='binary_crossentropy',\n",
    "        metrics=['accuracy', 'mse', tf.keras.metrics.Precision(), tf.keras.metrics.Recall()]\n",
    "    )\n",
    "    model.summary()\n",
    "    return model"
   ]
  },
  {
   "cell_type": "code",
   "execution_count": 12,
   "id": "226127782f472796",
   "metadata": {
    "ExecuteTime": {
     "end_time": "2024-05-23T16:08:23.948024Z",
     "start_time": "2024-05-23T16:08:23.032028Z"
    }
   },
   "outputs": [
    {
     "name": "stdout",
     "output_type": "stream",
     "text": [
      "Model: \"sequential_2\"\n",
      "_________________________________________________________________\n",
      " Layer (type)                Output Shape              Param #   \n",
      "=================================================================\n",
      " flatten_1 (Flatten)         (None, 18432)             0         \n",
      "                                                                 \n",
      " dropout_3 (Dropout)         (None, 18432)             0         \n",
      "                                                                 \n",
      " dense_3 (Dense)             (None, 2048)              37750784  \n",
      "                                                                 \n",
      " dropout_4 (Dropout)         (None, 2048)              0         \n",
      "                                                                 \n",
      " dense_4 (Dense)             (None, 2048)              4196352   \n",
      "                                                                 \n",
      " dropout_5 (Dropout)         (None, 2048)              0         \n",
      "                                                                 \n",
      " dense_5 (Dense)             (None, 1)                 2049      \n",
      "                                                                 \n",
      "=================================================================\n",
      "Total params: 41,949,185\n",
      "Trainable params: 41,949,185\n",
      "Non-trainable params: 0\n",
      "_________________________________________________________________\n"
     ]
    }
   ],
   "source": [
    "dense_1 = create_dense()"
   ]
  },
  {
   "cell_type": "code",
   "execution_count": null,
   "id": "8d6110f589e38789",
   "metadata": {},
   "outputs": [],
   "source": [
    "print(train_y[:20])"
   ]
  },
  {
   "cell_type": "code",
   "execution_count": 8,
   "id": "bb476aa8daee5a",
   "metadata": {
    "ExecuteTime": {
     "end_time": "2024-05-23T16:08:23.953025Z",
     "start_time": "2024-05-23T16:08:23.952023Z"
    }
   },
   "outputs": [],
   "source": [
    "def train_model(model: tf.keras.Model, train_x, train_y, valid_x, valid_y, epochs, model_name):\n",
    "    saving_models = keras.callbacks.ModelCheckpoint(\"./saved_models/checkpoints/\" + model_name + \".{epoch:02d}.h5\")\n",
    "    \n",
    "    return model.fit(train_x, train_y, validation_data=(valid_x, valid_y), epochs=epochs, batch_size=256,\n",
    "                     callbacks=[saving_models])"
   ]
  },
  {
   "cell_type": "code",
   "execution_count": 9,
   "id": "1e50eaf0d7fc246c",
   "metadata": {},
   "outputs": [],
   "source": [
    "valid_x = valid_x[:len(valid_x) // 2]\n",
    "valid_y = valid_y[:len(valid_y) // 2]"
   ]
  },
  {
   "cell_type": "code",
   "execution_count": 13,
   "id": "24ae2a698dfc00b4",
   "metadata": {},
   "outputs": [
    {
     "name": "stderr",
     "output_type": "stream",
     "text": [
      "  0%|          | 0/5 [00:00<?, ?it/s]"
     ]
    },
    {
     "name": "stdout",
     "output_type": "stream",
     "text": [
      "Epoch 1/3\n",
      "52/52 [==============================] - 16s 284ms/step - loss: 3382.8523 - accuracy: 0.5963 - mse: 0.3772 - precision_1: 0.5824 - recall_1: 0.6011 - val_loss: 2673.3701 - val_accuracy: 0.6883 - val_mse: 0.2624 - val_precision_1: 0.6725 - val_recall_1: 0.7130\n",
      "Epoch 2/3\n",
      "52/52 [==============================] - 14s 264ms/step - loss: 2112.4297 - accuracy: 0.6339 - mse: 0.3209 - precision_1: 0.6207 - recall_1: 0.6356 - val_loss: 1566.8710 - val_accuracy: 0.6560 - val_mse: 0.2790 - val_precision_1: 0.7645 - val_recall_1: 0.4335\n",
      "Epoch 3/3\n",
      "52/52 [==============================] - 14s 263ms/step - loss: 1171.4044 - accuracy: 0.6531 - mse: 0.2862 - precision_1: 0.6433 - recall_1: 0.6436 - val_loss: 811.0563 - val_accuracy: 0.7002 - val_mse: 0.2189 - val_precision_1: 0.6926 - val_recall_1: 0.7012\n",
      "Epoch 1/3\n",
      "52/52 [==============================] - 14s 273ms/step - loss: 596.6624 - accuracy: 0.6163 - mse: 0.2917 - precision_1: 0.6094 - recall_1: 0.6138 - val_loss: 424.9228 - val_accuracy: 0.6961 - val_mse: 0.1981 - val_precision_1: 0.6742 - val_recall_1: 0.7489\n",
      "Epoch 2/3\n",
      "52/52 [==============================] - 14s 274ms/step - loss: 334.7220 - accuracy: 0.6338 - mse: 0.2530 - precision_1: 0.6269 - recall_1: 0.6318 - val_loss: 257.7882 - val_accuracy: 0.6918 - val_mse: 0.1985 - val_precision_1: 0.6772 - val_recall_1: 0.7231\n",
      "Epoch 3/3\n",
      "52/52 [==============================] - 14s 274ms/step - loss: 207.6328 - accuracy: 0.6374 - mse: 0.2330 - precision_1: 0.6311 - recall_1: 0.6338 - val_loss: 161.0533 - val_accuracy: 0.6961 - val_mse: 0.1991 - val_precision_1: 0.6760 - val_recall_1: 0.7434\n",
      "Epoch 1/3\n",
      "52/52 [==============================] - 15s 285ms/step - loss: 127.7798 - accuracy: 0.6372 - mse: 0.2302 - precision_1: 0.6307 - recall_1: 0.6251 - val_loss: 96.4131 - val_accuracy: 0.6720 - val_mse: 0.2075 - val_precision_1: 0.6461 - val_recall_1: 0.6943\n",
      "Epoch 2/3\n",
      "52/52 [==============================] - 14s 267ms/step - loss: 74.8721 - accuracy: 0.6487 - mse: 0.2207 - precision_1: 0.6457 - recall_1: 0.6259 - val_loss: 55.5184 - val_accuracy: 0.6671 - val_mse: 0.2149 - val_precision_1: 0.6467 - val_recall_1: 0.6694\n",
      "Epoch 3/3\n",
      "52/52 [==============================] - 14s 270ms/step - loss: 42.6264 - accuracy: 0.6481 - mse: 0.2218 - precision_1: 0.6480 - recall_1: 0.6161 - val_loss: 31.1614 - val_accuracy: 0.6594 - val_mse: 0.2179 - val_precision_1: 0.6523 - val_recall_1: 0.6165\n",
      "Epoch 1/3\n",
      "52/52 [==============================] - 15s 282ms/step - loss: 23.8407 - accuracy: 0.6582 - mse: 0.2223 - precision_1: 0.6627 - recall_1: 0.5996 - val_loss: 17.5215 - val_accuracy: 0.6259 - val_mse: 0.2282 - val_precision_1: 0.7123 - val_recall_1: 0.3808\n",
      "Epoch 2/3\n",
      "52/52 [==============================] - 14s 275ms/step - loss: 13.7030 - accuracy: 0.6532 - mse: 0.2254 - precision_1: 0.6677 - recall_1: 0.5653 - val_loss: 10.4999 - val_accuracy: 0.6515 - val_mse: 0.2268 - val_precision_1: 0.6869 - val_recall_1: 0.5145\n",
      "Epoch 3/3\n",
      "52/52 [==============================] - 14s 272ms/step - loss: 8.6799 - accuracy: 0.6483 - mse: 0.2281 - precision_1: 0.6721 - recall_1: 0.5347 - val_loss: 7.1879 - val_accuracy: 0.6543 - val_mse: 0.2286 - val_precision_1: 0.6928 - val_recall_1: 0.5132\n",
      "Epoch 1/3\n",
      "52/52 [==============================] - 15s 292ms/step - loss: 6.3755 - accuracy: 0.6361 - mse: 0.2313 - precision_1: 0.6771 - recall_1: 0.4802 - val_loss: 5.7223 - val_accuracy: 0.6576 - val_mse: 0.2310 - val_precision_1: 0.7168 - val_recall_1: 0.4641\n",
      "Epoch 2/3\n",
      "52/52 [==============================] - 14s 271ms/step - loss: 5.3886 - accuracy: 0.6233 - mse: 0.2329 - precision_1: 0.6868 - recall_1: 0.4132 - val_loss: 5.1265 - val_accuracy: 0.6604 - val_mse: 0.2313 - val_precision_1: 0.7233 - val_recall_1: 0.4641\n",
      "Epoch 3/3\n",
      "52/52 [==============================] - 14s 274ms/step - loss: 5.0061 - accuracy: 0.6108 - mse: 0.2333 - precision_1: 0.6743 - recall_1: 0.3854 - val_loss: 4.9112 - val_accuracy: 0.6527 - val_mse: 0.2312 - val_precision_1: 0.7637 - val_recall_1: 0.3917\n"
     ]
    },
    {
     "name": "stderr",
     "output_type": "stream",
     "text": [
      " 20%|██        | 1/5 [03:55<15:41, 235.35s/it]"
     ]
    },
    {
     "name": "stdout",
     "output_type": "stream",
     "text": [
      "Epoch 1/3\n",
      "52/52 [==============================] - 16s 303ms/step - loss: 4.8762 - accuracy: 0.5967 - mse: 0.2341 - precision_1: 0.6730 - recall_1: 0.3486 - val_loss: 4.8337 - val_accuracy: 0.6752 - val_mse: 0.2266 - val_precision_1: 0.7325 - val_recall_1: 0.5342\n",
      "Epoch 2/3\n",
      "52/52 [==============================] - 14s 269ms/step - loss: 4.8404 - accuracy: 0.5887 - mse: 0.2334 - precision_1: 0.6582 - recall_1: 0.3388 - val_loss: 4.8228 - val_accuracy: 0.6801 - val_mse: 0.2266 - val_precision_1: 0.7326 - val_recall_1: 0.5497\n",
      "Epoch 3/3\n",
      "52/52 [==============================] - 14s 271ms/step - loss: 4.8358 - accuracy: 0.5939 - mse: 0.2327 - precision_1: 0.6582 - recall_1: 0.3609 - val_loss: 4.8254 - val_accuracy: 0.6859 - val_mse: 0.2251 - val_precision_1: 0.7153 - val_recall_1: 0.5994\n",
      "Epoch 1/3\n",
      "52/52 [==============================] - 15s 282ms/step - loss: 4.8463 - accuracy: 0.5882 - mse: 0.2329 - precision_1: 0.6584 - recall_1: 0.3184 - val_loss: 4.8367 - val_accuracy: 0.6781 - val_mse: 0.2264 - val_precision_1: 0.7206 - val_recall_1: 0.5729\n",
      "Epoch 2/3\n",
      "52/52 [==============================] - 14s 265ms/step - loss: 4.8607 - accuracy: 0.5899 - mse: 0.2336 - precision_1: 0.6498 - recall_1: 0.3402 - val_loss: 4.8538 - val_accuracy: 0.6735 - val_mse: 0.2268 - val_precision_1: 0.7143 - val_recall_1: 0.5692\n",
      "Epoch 3/3\n",
      "52/52 [==============================] - 14s 264ms/step - loss: 4.8725 - accuracy: 0.5867 - mse: 0.2335 - precision_1: 0.6477 - recall_1: 0.3294 - val_loss: 4.8688 - val_accuracy: 0.6585 - val_mse: 0.2274 - val_precision_1: 0.7410 - val_recall_1: 0.4788\n",
      "Epoch 1/3\n",
      "52/52 [==============================] - 14s 269ms/step - loss: 4.8854 - accuracy: 0.5940 - mse: 0.2323 - precision_1: 0.6580 - recall_1: 0.3128 - val_loss: 4.8799 - val_accuracy: 0.6686 - val_mse: 0.2266 - val_precision_1: 0.7100 - val_recall_1: 0.5188\n",
      "Epoch 2/3\n",
      "52/52 [==============================] - 17s 326ms/step - loss: 4.8983 - accuracy: 0.5976 - mse: 0.2322 - precision_1: 0.6564 - recall_1: 0.3310 - val_loss: 4.8951 - val_accuracy: 0.6509 - val_mse: 0.2278 - val_precision_1: 0.7342 - val_recall_1: 0.4231\n",
      "Epoch 3/3\n",
      "52/52 [==============================] - 18s 348ms/step - loss: 4.9115 - accuracy: 0.5987 - mse: 0.2324 - precision_1: 0.6702 - recall_1: 0.3151 - val_loss: 4.9038 - val_accuracy: 0.6665 - val_mse: 0.2255 - val_precision_1: 0.7079 - val_recall_1: 0.5150\n",
      "Epoch 1/3\n",
      "14/52 [=======>......................] - ETA: 12s - loss: 4.9229 - accuracy: 0.5781 - mse: 0.2328 - precision_1: 0.6254 - recall_1: 0.3129"
     ]
    },
    {
     "name": "stderr",
     "output_type": "stream",
     "text": [
      " 20%|██        | 1/5 [06:36<26:25, 396.38s/it]\n"
     ]
    },
    {
     "ename": "KeyboardInterrupt",
     "evalue": "",
     "output_type": "error",
     "traceback": [
      "\u001b[1;31m---------------------------------------------------------------------------\u001b[0m",
      "\u001b[1;31mKeyboardInterrupt\u001b[0m                         Traceback (most recent call last)",
      "Cell \u001b[1;32mIn[13], line 8\u001b[0m\n\u001b[0;32m      6\u001b[0m train_x_sample \u001b[38;5;241m=\u001b[39m train_x[i\u001b[38;5;241m*\u001b[39m\u001b[38;5;28mlen\u001b[39m(train_x)\u001b[38;5;241m/\u001b[39m\u001b[38;5;241m/\u001b[39m\u001b[38;5;241m5\u001b[39m : (i\u001b[38;5;241m+\u001b[39m\u001b[38;5;241m1\u001b[39m)\u001b[38;5;241m*\u001b[39m\u001b[38;5;28mlen\u001b[39m(train_x)\u001b[38;5;241m/\u001b[39m\u001b[38;5;241m/\u001b[39m\u001b[38;5;241m5\u001b[39m]\n\u001b[0;32m      7\u001b[0m train_y_sample \u001b[38;5;241m=\u001b[39m train_y[i\u001b[38;5;241m*\u001b[39m\u001b[38;5;28mlen\u001b[39m(train_y)\u001b[38;5;241m/\u001b[39m\u001b[38;5;241m/\u001b[39m\u001b[38;5;241m5\u001b[39m : (i\u001b[38;5;241m+\u001b[39m\u001b[38;5;241m1\u001b[39m)\u001b[38;5;241m*\u001b[39m\u001b[38;5;28mlen\u001b[39m(train_y)\u001b[38;5;241m/\u001b[39m\u001b[38;5;241m/\u001b[39m\u001b[38;5;241m5\u001b[39m]\n\u001b[1;32m----> 8\u001b[0m \u001b[43mtrain_model\u001b[49m\u001b[43m(\u001b[49m\u001b[43mdense_1\u001b[49m\u001b[43m,\u001b[49m\u001b[43m \u001b[49m\u001b[43mtrain_x_sample\u001b[49m\u001b[43m,\u001b[49m\u001b[43m \u001b[49m\u001b[43mtrain_y_sample\u001b[49m\u001b[43m,\u001b[49m\u001b[43m \u001b[49m\u001b[43mvalid_x_sample\u001b[49m\u001b[43m,\u001b[49m\u001b[43m \u001b[49m\u001b[43mvalid_y_sample\u001b[49m\u001b[43m,\u001b[49m\u001b[43m \u001b[49m\u001b[38;5;241;43m3\u001b[39;49m\u001b[43m,\u001b[49m\u001b[43m \u001b[49m\u001b[43mmodel_name\u001b[49m\u001b[38;5;241;43m=\u001b[39;49m\u001b[38;5;124;43m\"\u001b[39;49m\u001b[38;5;124;43mdense\u001b[39;49m\u001b[38;5;124;43m\"\u001b[39;49m\u001b[43m)\u001b[49m\n",
      "Cell \u001b[1;32mIn[8], line 4\u001b[0m, in \u001b[0;36mtrain_model\u001b[1;34m(model, train_x, train_y, valid_x, valid_y, epochs, model_name)\u001b[0m\n\u001b[0;32m      1\u001b[0m \u001b[38;5;28;01mdef\u001b[39;00m \u001b[38;5;21mtrain_model\u001b[39m(model: tf\u001b[38;5;241m.\u001b[39mkeras\u001b[38;5;241m.\u001b[39mModel, train_x, train_y, valid_x, valid_y, epochs, model_name):\n\u001b[0;32m      2\u001b[0m     saving_models \u001b[38;5;241m=\u001b[39m keras\u001b[38;5;241m.\u001b[39mcallbacks\u001b[38;5;241m.\u001b[39mModelCheckpoint(\u001b[38;5;124m\"\u001b[39m\u001b[38;5;124m./saved_models/checkpoints/\u001b[39m\u001b[38;5;124m\"\u001b[39m \u001b[38;5;241m+\u001b[39m model_name \u001b[38;5;241m+\u001b[39m \u001b[38;5;124m\"\u001b[39m\u001b[38;5;124m.\u001b[39m\u001b[38;5;132;01m{epoch:02d}\u001b[39;00m\u001b[38;5;124m.h5\u001b[39m\u001b[38;5;124m\"\u001b[39m)\n\u001b[1;32m----> 4\u001b[0m     \u001b[38;5;28;01mreturn\u001b[39;00m \u001b[43mmodel\u001b[49m\u001b[38;5;241;43m.\u001b[39;49m\u001b[43mfit\u001b[49m\u001b[43m(\u001b[49m\u001b[43mtrain_x\u001b[49m\u001b[43m,\u001b[49m\u001b[43m \u001b[49m\u001b[43mtrain_y\u001b[49m\u001b[43m,\u001b[49m\u001b[43m \u001b[49m\u001b[43mvalidation_data\u001b[49m\u001b[38;5;241;43m=\u001b[39;49m\u001b[43m(\u001b[49m\u001b[43mvalid_x\u001b[49m\u001b[43m,\u001b[49m\u001b[43m \u001b[49m\u001b[43mvalid_y\u001b[49m\u001b[43m)\u001b[49m\u001b[43m,\u001b[49m\u001b[43m \u001b[49m\u001b[43mepochs\u001b[49m\u001b[38;5;241;43m=\u001b[39;49m\u001b[43mepochs\u001b[49m\u001b[43m,\u001b[49m\u001b[43m \u001b[49m\u001b[43mbatch_size\u001b[49m\u001b[38;5;241;43m=\u001b[39;49m\u001b[38;5;241;43m256\u001b[39;49m\u001b[43m,\u001b[49m\n\u001b[0;32m      5\u001b[0m \u001b[43m                     \u001b[49m\u001b[43mcallbacks\u001b[49m\u001b[38;5;241;43m=\u001b[39;49m\u001b[43m[\u001b[49m\u001b[43msaving_models\u001b[49m\u001b[43m]\u001b[49m\u001b[43m)\u001b[49m\n",
      "File \u001b[1;32mc:\\Users\\LZ\\Desktop\\Python\\ai_generated_recognition\\venv\\lib\\site-packages\\keras\\utils\\traceback_utils.py:65\u001b[0m, in \u001b[0;36mfilter_traceback.<locals>.error_handler\u001b[1;34m(*args, **kwargs)\u001b[0m\n\u001b[0;32m     63\u001b[0m filtered_tb \u001b[38;5;241m=\u001b[39m \u001b[38;5;28;01mNone\u001b[39;00m\n\u001b[0;32m     64\u001b[0m \u001b[38;5;28;01mtry\u001b[39;00m:\n\u001b[1;32m---> 65\u001b[0m     \u001b[38;5;28;01mreturn\u001b[39;00m fn(\u001b[38;5;241m*\u001b[39margs, \u001b[38;5;241m*\u001b[39m\u001b[38;5;241m*\u001b[39mkwargs)\n\u001b[0;32m     66\u001b[0m \u001b[38;5;28;01mexcept\u001b[39;00m \u001b[38;5;167;01mException\u001b[39;00m \u001b[38;5;28;01mas\u001b[39;00m e:\n\u001b[0;32m     67\u001b[0m     filtered_tb \u001b[38;5;241m=\u001b[39m _process_traceback_frames(e\u001b[38;5;241m.\u001b[39m__traceback__)\n",
      "File \u001b[1;32mc:\\Users\\LZ\\Desktop\\Python\\ai_generated_recognition\\venv\\lib\\site-packages\\keras\\engine\\training.py:1564\u001b[0m, in \u001b[0;36mModel.fit\u001b[1;34m(self, x, y, batch_size, epochs, verbose, callbacks, validation_split, validation_data, shuffle, class_weight, sample_weight, initial_epoch, steps_per_epoch, validation_steps, validation_batch_size, validation_freq, max_queue_size, workers, use_multiprocessing)\u001b[0m\n\u001b[0;32m   1556\u001b[0m \u001b[38;5;28;01mwith\u001b[39;00m tf\u001b[38;5;241m.\u001b[39mprofiler\u001b[38;5;241m.\u001b[39mexperimental\u001b[38;5;241m.\u001b[39mTrace(\n\u001b[0;32m   1557\u001b[0m     \u001b[38;5;124m\"\u001b[39m\u001b[38;5;124mtrain\u001b[39m\u001b[38;5;124m\"\u001b[39m,\n\u001b[0;32m   1558\u001b[0m     epoch_num\u001b[38;5;241m=\u001b[39mepoch,\n\u001b[1;32m   (...)\u001b[0m\n\u001b[0;32m   1561\u001b[0m     _r\u001b[38;5;241m=\u001b[39m\u001b[38;5;241m1\u001b[39m,\n\u001b[0;32m   1562\u001b[0m ):\n\u001b[0;32m   1563\u001b[0m     callbacks\u001b[38;5;241m.\u001b[39mon_train_batch_begin(step)\n\u001b[1;32m-> 1564\u001b[0m     tmp_logs \u001b[38;5;241m=\u001b[39m \u001b[38;5;28;43mself\u001b[39;49m\u001b[38;5;241;43m.\u001b[39;49m\u001b[43mtrain_function\u001b[49m\u001b[43m(\u001b[49m\u001b[43miterator\u001b[49m\u001b[43m)\u001b[49m\n\u001b[0;32m   1565\u001b[0m     \u001b[38;5;28;01mif\u001b[39;00m data_handler\u001b[38;5;241m.\u001b[39mshould_sync:\n\u001b[0;32m   1566\u001b[0m         context\u001b[38;5;241m.\u001b[39masync_wait()\n",
      "File \u001b[1;32mc:\\Users\\LZ\\Desktop\\Python\\ai_generated_recognition\\venv\\lib\\site-packages\\tensorflow\\python\\util\\traceback_utils.py:150\u001b[0m, in \u001b[0;36mfilter_traceback.<locals>.error_handler\u001b[1;34m(*args, **kwargs)\u001b[0m\n\u001b[0;32m    148\u001b[0m filtered_tb \u001b[38;5;241m=\u001b[39m \u001b[38;5;28;01mNone\u001b[39;00m\n\u001b[0;32m    149\u001b[0m \u001b[38;5;28;01mtry\u001b[39;00m:\n\u001b[1;32m--> 150\u001b[0m   \u001b[38;5;28;01mreturn\u001b[39;00m fn(\u001b[38;5;241m*\u001b[39margs, \u001b[38;5;241m*\u001b[39m\u001b[38;5;241m*\u001b[39mkwargs)\n\u001b[0;32m    151\u001b[0m \u001b[38;5;28;01mexcept\u001b[39;00m \u001b[38;5;167;01mException\u001b[39;00m \u001b[38;5;28;01mas\u001b[39;00m e:\n\u001b[0;32m    152\u001b[0m   filtered_tb \u001b[38;5;241m=\u001b[39m _process_traceback_frames(e\u001b[38;5;241m.\u001b[39m__traceback__)\n",
      "File \u001b[1;32mc:\\Users\\LZ\\Desktop\\Python\\ai_generated_recognition\\venv\\lib\\site-packages\\tensorflow\\python\\eager\\def_function.py:915\u001b[0m, in \u001b[0;36mFunction.__call__\u001b[1;34m(self, *args, **kwds)\u001b[0m\n\u001b[0;32m    912\u001b[0m compiler \u001b[38;5;241m=\u001b[39m \u001b[38;5;124m\"\u001b[39m\u001b[38;5;124mxla\u001b[39m\u001b[38;5;124m\"\u001b[39m \u001b[38;5;28;01mif\u001b[39;00m \u001b[38;5;28mself\u001b[39m\u001b[38;5;241m.\u001b[39m_jit_compile \u001b[38;5;28;01melse\u001b[39;00m \u001b[38;5;124m\"\u001b[39m\u001b[38;5;124mnonXla\u001b[39m\u001b[38;5;124m\"\u001b[39m\n\u001b[0;32m    914\u001b[0m \u001b[38;5;28;01mwith\u001b[39;00m OptionalXlaContext(\u001b[38;5;28mself\u001b[39m\u001b[38;5;241m.\u001b[39m_jit_compile):\n\u001b[1;32m--> 915\u001b[0m   result \u001b[38;5;241m=\u001b[39m \u001b[38;5;28mself\u001b[39m\u001b[38;5;241m.\u001b[39m_call(\u001b[38;5;241m*\u001b[39margs, \u001b[38;5;241m*\u001b[39m\u001b[38;5;241m*\u001b[39mkwds)\n\u001b[0;32m    917\u001b[0m new_tracing_count \u001b[38;5;241m=\u001b[39m \u001b[38;5;28mself\u001b[39m\u001b[38;5;241m.\u001b[39mexperimental_get_tracing_count()\n\u001b[0;32m    918\u001b[0m without_tracing \u001b[38;5;241m=\u001b[39m (tracing_count \u001b[38;5;241m==\u001b[39m new_tracing_count)\n",
      "File \u001b[1;32mc:\\Users\\LZ\\Desktop\\Python\\ai_generated_recognition\\venv\\lib\\site-packages\\tensorflow\\python\\eager\\def_function.py:947\u001b[0m, in \u001b[0;36mFunction._call\u001b[1;34m(self, *args, **kwds)\u001b[0m\n\u001b[0;32m    944\u001b[0m   \u001b[38;5;28mself\u001b[39m\u001b[38;5;241m.\u001b[39m_lock\u001b[38;5;241m.\u001b[39mrelease()\n\u001b[0;32m    945\u001b[0m   \u001b[38;5;66;03m# In this case we have created variables on the first call, so we run the\u001b[39;00m\n\u001b[0;32m    946\u001b[0m   \u001b[38;5;66;03m# defunned version which is guaranteed to never create variables.\u001b[39;00m\n\u001b[1;32m--> 947\u001b[0m   \u001b[38;5;28;01mreturn\u001b[39;00m \u001b[38;5;28mself\u001b[39m\u001b[38;5;241m.\u001b[39m_stateless_fn(\u001b[38;5;241m*\u001b[39margs, \u001b[38;5;241m*\u001b[39m\u001b[38;5;241m*\u001b[39mkwds)  \u001b[38;5;66;03m# pylint: disable=not-callable\u001b[39;00m\n\u001b[0;32m    948\u001b[0m \u001b[38;5;28;01melif\u001b[39;00m \u001b[38;5;28mself\u001b[39m\u001b[38;5;241m.\u001b[39m_stateful_fn \u001b[38;5;129;01mis\u001b[39;00m \u001b[38;5;129;01mnot\u001b[39;00m \u001b[38;5;28;01mNone\u001b[39;00m:\n\u001b[0;32m    949\u001b[0m   \u001b[38;5;66;03m# Release the lock early so that multiple threads can perform the call\u001b[39;00m\n\u001b[0;32m    950\u001b[0m   \u001b[38;5;66;03m# in parallel.\u001b[39;00m\n\u001b[0;32m    951\u001b[0m   \u001b[38;5;28mself\u001b[39m\u001b[38;5;241m.\u001b[39m_lock\u001b[38;5;241m.\u001b[39mrelease()\n",
      "File \u001b[1;32mc:\\Users\\LZ\\Desktop\\Python\\ai_generated_recognition\\venv\\lib\\site-packages\\tensorflow\\python\\eager\\function.py:2496\u001b[0m, in \u001b[0;36mFunction.__call__\u001b[1;34m(self, *args, **kwargs)\u001b[0m\n\u001b[0;32m   2493\u001b[0m \u001b[38;5;28;01mwith\u001b[39;00m \u001b[38;5;28mself\u001b[39m\u001b[38;5;241m.\u001b[39m_lock:\n\u001b[0;32m   2494\u001b[0m   (graph_function,\n\u001b[0;32m   2495\u001b[0m    filtered_flat_args) \u001b[38;5;241m=\u001b[39m \u001b[38;5;28mself\u001b[39m\u001b[38;5;241m.\u001b[39m_maybe_define_function(args, kwargs)\n\u001b[1;32m-> 2496\u001b[0m \u001b[38;5;28;01mreturn\u001b[39;00m \u001b[43mgraph_function\u001b[49m\u001b[38;5;241;43m.\u001b[39;49m\u001b[43m_call_flat\u001b[49m\u001b[43m(\u001b[49m\n\u001b[0;32m   2497\u001b[0m \u001b[43m    \u001b[49m\u001b[43mfiltered_flat_args\u001b[49m\u001b[43m,\u001b[49m\u001b[43m \u001b[49m\u001b[43mcaptured_inputs\u001b[49m\u001b[38;5;241;43m=\u001b[39;49m\u001b[43mgraph_function\u001b[49m\u001b[38;5;241;43m.\u001b[39;49m\u001b[43mcaptured_inputs\u001b[49m\u001b[43m)\u001b[49m\n",
      "File \u001b[1;32mc:\\Users\\LZ\\Desktop\\Python\\ai_generated_recognition\\venv\\lib\\site-packages\\tensorflow\\python\\eager\\function.py:1862\u001b[0m, in \u001b[0;36mConcreteFunction._call_flat\u001b[1;34m(self, args, captured_inputs, cancellation_manager)\u001b[0m\n\u001b[0;32m   1858\u001b[0m possible_gradient_type \u001b[38;5;241m=\u001b[39m gradients_util\u001b[38;5;241m.\u001b[39mPossibleTapeGradientTypes(args)\n\u001b[0;32m   1859\u001b[0m \u001b[38;5;28;01mif\u001b[39;00m (possible_gradient_type \u001b[38;5;241m==\u001b[39m gradients_util\u001b[38;5;241m.\u001b[39mPOSSIBLE_GRADIENT_TYPES_NONE\n\u001b[0;32m   1860\u001b[0m     \u001b[38;5;129;01mand\u001b[39;00m executing_eagerly):\n\u001b[0;32m   1861\u001b[0m   \u001b[38;5;66;03m# No tape is watching; skip to running the function.\u001b[39;00m\n\u001b[1;32m-> 1862\u001b[0m   \u001b[38;5;28;01mreturn\u001b[39;00m \u001b[38;5;28mself\u001b[39m\u001b[38;5;241m.\u001b[39m_build_call_outputs(\u001b[38;5;28;43mself\u001b[39;49m\u001b[38;5;241;43m.\u001b[39;49m\u001b[43m_inference_function\u001b[49m\u001b[38;5;241;43m.\u001b[39;49m\u001b[43mcall\u001b[49m\u001b[43m(\u001b[49m\n\u001b[0;32m   1863\u001b[0m \u001b[43m      \u001b[49m\u001b[43mctx\u001b[49m\u001b[43m,\u001b[49m\u001b[43m \u001b[49m\u001b[43margs\u001b[49m\u001b[43m,\u001b[49m\u001b[43m \u001b[49m\u001b[43mcancellation_manager\u001b[49m\u001b[38;5;241;43m=\u001b[39;49m\u001b[43mcancellation_manager\u001b[49m\u001b[43m)\u001b[49m)\n\u001b[0;32m   1864\u001b[0m forward_backward \u001b[38;5;241m=\u001b[39m \u001b[38;5;28mself\u001b[39m\u001b[38;5;241m.\u001b[39m_select_forward_and_backward_functions(\n\u001b[0;32m   1865\u001b[0m     args,\n\u001b[0;32m   1866\u001b[0m     possible_gradient_type,\n\u001b[0;32m   1867\u001b[0m     executing_eagerly)\n\u001b[0;32m   1868\u001b[0m forward_function, args_with_tangents \u001b[38;5;241m=\u001b[39m forward_backward\u001b[38;5;241m.\u001b[39mforward()\n",
      "File \u001b[1;32mc:\\Users\\LZ\\Desktop\\Python\\ai_generated_recognition\\venv\\lib\\site-packages\\tensorflow\\python\\eager\\function.py:499\u001b[0m, in \u001b[0;36m_EagerDefinedFunction.call\u001b[1;34m(self, ctx, args, cancellation_manager)\u001b[0m\n\u001b[0;32m    497\u001b[0m \u001b[38;5;28;01mwith\u001b[39;00m _InterpolateFunctionError(\u001b[38;5;28mself\u001b[39m):\n\u001b[0;32m    498\u001b[0m   \u001b[38;5;28;01mif\u001b[39;00m cancellation_manager \u001b[38;5;129;01mis\u001b[39;00m \u001b[38;5;28;01mNone\u001b[39;00m:\n\u001b[1;32m--> 499\u001b[0m     outputs \u001b[38;5;241m=\u001b[39m \u001b[43mexecute\u001b[49m\u001b[38;5;241;43m.\u001b[39;49m\u001b[43mexecute\u001b[49m\u001b[43m(\u001b[49m\n\u001b[0;32m    500\u001b[0m \u001b[43m        \u001b[49m\u001b[38;5;28;43mstr\u001b[39;49m\u001b[43m(\u001b[49m\u001b[38;5;28;43mself\u001b[39;49m\u001b[38;5;241;43m.\u001b[39;49m\u001b[43msignature\u001b[49m\u001b[38;5;241;43m.\u001b[39;49m\u001b[43mname\u001b[49m\u001b[43m)\u001b[49m\u001b[43m,\u001b[49m\n\u001b[0;32m    501\u001b[0m \u001b[43m        \u001b[49m\u001b[43mnum_outputs\u001b[49m\u001b[38;5;241;43m=\u001b[39;49m\u001b[38;5;28;43mself\u001b[39;49m\u001b[38;5;241;43m.\u001b[39;49m\u001b[43m_num_outputs\u001b[49m\u001b[43m,\u001b[49m\n\u001b[0;32m    502\u001b[0m \u001b[43m        \u001b[49m\u001b[43minputs\u001b[49m\u001b[38;5;241;43m=\u001b[39;49m\u001b[43margs\u001b[49m\u001b[43m,\u001b[49m\n\u001b[0;32m    503\u001b[0m \u001b[43m        \u001b[49m\u001b[43mattrs\u001b[49m\u001b[38;5;241;43m=\u001b[39;49m\u001b[43mattrs\u001b[49m\u001b[43m,\u001b[49m\n\u001b[0;32m    504\u001b[0m \u001b[43m        \u001b[49m\u001b[43mctx\u001b[49m\u001b[38;5;241;43m=\u001b[39;49m\u001b[43mctx\u001b[49m\u001b[43m)\u001b[49m\n\u001b[0;32m    505\u001b[0m   \u001b[38;5;28;01melse\u001b[39;00m:\n\u001b[0;32m    506\u001b[0m     outputs \u001b[38;5;241m=\u001b[39m execute\u001b[38;5;241m.\u001b[39mexecute_with_cancellation(\n\u001b[0;32m    507\u001b[0m         \u001b[38;5;28mstr\u001b[39m(\u001b[38;5;28mself\u001b[39m\u001b[38;5;241m.\u001b[39msignature\u001b[38;5;241m.\u001b[39mname),\n\u001b[0;32m    508\u001b[0m         num_outputs\u001b[38;5;241m=\u001b[39m\u001b[38;5;28mself\u001b[39m\u001b[38;5;241m.\u001b[39m_num_outputs,\n\u001b[1;32m   (...)\u001b[0m\n\u001b[0;32m    511\u001b[0m         ctx\u001b[38;5;241m=\u001b[39mctx,\n\u001b[0;32m    512\u001b[0m         cancellation_manager\u001b[38;5;241m=\u001b[39mcancellation_manager)\n",
      "File \u001b[1;32mc:\\Users\\LZ\\Desktop\\Python\\ai_generated_recognition\\venv\\lib\\site-packages\\tensorflow\\python\\eager\\execute.py:54\u001b[0m, in \u001b[0;36mquick_execute\u001b[1;34m(op_name, num_outputs, inputs, attrs, ctx, name)\u001b[0m\n\u001b[0;32m     52\u001b[0m \u001b[38;5;28;01mtry\u001b[39;00m:\n\u001b[0;32m     53\u001b[0m   ctx\u001b[38;5;241m.\u001b[39mensure_initialized()\n\u001b[1;32m---> 54\u001b[0m   tensors \u001b[38;5;241m=\u001b[39m \u001b[43mpywrap_tfe\u001b[49m\u001b[38;5;241;43m.\u001b[39;49m\u001b[43mTFE_Py_Execute\u001b[49m\u001b[43m(\u001b[49m\u001b[43mctx\u001b[49m\u001b[38;5;241;43m.\u001b[39;49m\u001b[43m_handle\u001b[49m\u001b[43m,\u001b[49m\u001b[43m \u001b[49m\u001b[43mdevice_name\u001b[49m\u001b[43m,\u001b[49m\u001b[43m \u001b[49m\u001b[43mop_name\u001b[49m\u001b[43m,\u001b[49m\n\u001b[0;32m     55\u001b[0m \u001b[43m                                      \u001b[49m\u001b[43minputs\u001b[49m\u001b[43m,\u001b[49m\u001b[43m \u001b[49m\u001b[43mattrs\u001b[49m\u001b[43m,\u001b[49m\u001b[43m \u001b[49m\u001b[43mnum_outputs\u001b[49m\u001b[43m)\u001b[49m\n\u001b[0;32m     56\u001b[0m \u001b[38;5;28;01mexcept\u001b[39;00m core\u001b[38;5;241m.\u001b[39m_NotOkStatusException \u001b[38;5;28;01mas\u001b[39;00m e:\n\u001b[0;32m     57\u001b[0m   \u001b[38;5;28;01mif\u001b[39;00m name \u001b[38;5;129;01mis\u001b[39;00m \u001b[38;5;129;01mnot\u001b[39;00m \u001b[38;5;28;01mNone\u001b[39;00m:\n",
      "\u001b[1;31mKeyboardInterrupt\u001b[0m: "
     ]
    }
   ],
   "source": [
    "for j in tqdm(range(5)):\n",
    "    train_x, train_y = load_data((j*2, (j+1)*2), \"train\")\n",
    "    for i in range(5):\n",
    "        valid_x_sample = valid_x[i*len(valid_x)//5 : (i+1)*len(valid_x)//5]\n",
    "        valid_y_sample = valid_y[i*len(valid_y)//5 : (i+1)*len(valid_y)//5]\n",
    "        train_x_sample = train_x[i*len(train_x)//5 : (i+1)*len(train_x)//5]\n",
    "        train_y_sample = train_y[i*len(train_y)//5 : (i+1)*len(train_y)//5]\n",
    "        train_model(dense_1, train_x_sample, train_y_sample, valid_x_sample, valid_y_sample, 3, model_name=\"dense\")"
   ]
  }
 ],
 "metadata": {
  "kernelspec": {
   "display_name": "Python 3",
   "language": "python",
   "name": "python3"
  },
  "language_info": {
   "codemirror_mode": {
    "name": "ipython",
    "version": 3
   },
   "file_extension": ".py",
   "mimetype": "text/x-python",
   "name": "python",
   "nbconvert_exporter": "python",
   "pygments_lexer": "ipython3",
   "version": "3.10.2"
  }
 },
 "nbformat": 4,
 "nbformat_minor": 5
}
