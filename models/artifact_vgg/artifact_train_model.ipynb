{
 "cells": [
  {
   "cell_type": "code",
   "id": "initial_id",
   "metadata": {
    "collapsed": true,
    "ExecuteTime": {
     "end_time": "2024-04-23T15:26:28.143406Z",
     "start_time": "2024-04-23T15:26:23.960358Z"
    }
   },
   "source": [
    "import tensorflow as tf\n",
    "import keras\n",
    "from keras import layers\n",
    "import numpy as np\n",
    "# from utils.data_preprocessing import load_data_artifact"
   ],
   "outputs": [],
   "execution_count": 1
  },
  {
   "metadata": {
    "ExecuteTime": {
     "end_time": "2024-04-23T15:40:28.855097Z",
     "start_time": "2024-04-23T15:40:28.847097Z"
    }
   },
   "cell_type": "code",
   "source": [
    "def create_dense():\n",
    "    model = keras.models.Sequential()\n",
    "    model.add(layers.Input(shape=(6*6*512)))\n",
    "    # model.add(layers.Flatten())\n",
    "    model.add(layers.Dense(128, activation='elu'))\n",
    "    model.add(layers.BatchNormalization())\n",
    "\n",
    "    model.add(layers.Dense(128, activation='elu'))\n",
    "    model.add(layers.BatchNormalization())\n",
    "\n",
    "    # dense = layers.Dense(256, activation='elu')(norm)\n",
    "    # norm = layers.BatchNormalization()(dense)\n",
    "\n",
    "    model.add(layers.Dense(1, activation='sigmoid'))\n",
    "\n",
    "    adam = tf.keras.optimizers.Adam(learning_rate=1e-5)\n",
    "    model.compile(\n",
    "        optimizer=adam,\n",
    "        loss='binary_crossentropy',\n",
    "        metrics=['accuracy', 'mse', tf.keras.metrics.Precision(), tf.keras.metrics.Recall()]\n",
    "    )\n",
    "    model.summary()\n",
    "    return model"
   ],
   "id": "53c5ea4f2539402c",
   "outputs": [],
   "execution_count": 36
  },
  {
   "metadata": {
    "ExecuteTime": {
     "end_time": "2024-04-23T15:43:51.773689Z",
     "start_time": "2024-04-23T15:43:51.686690Z"
    }
   },
   "cell_type": "code",
   "source": "dense_1 = create_dense()",
   "id": "226127782f472796",
   "outputs": [
    {
     "name": "stdout",
     "output_type": "stream",
     "text": [
      "Model: \"sequential_3\"\n",
      "_________________________________________________________________\n",
      " Layer (type)                Output Shape              Param #   \n",
      "=================================================================\n",
      " dense_24 (Dense)            (None, 128)               2359424   \n",
      "                                                                 \n",
      " batch_normalization_16 (Bat  (None, 128)              512       \n",
      " chNormalization)                                                \n",
      "                                                                 \n",
      " dense_25 (Dense)            (None, 128)               16512     \n",
      "                                                                 \n",
      " batch_normalization_17 (Bat  (None, 128)              512       \n",
      " chNormalization)                                                \n",
      "                                                                 \n",
      " dense_26 (Dense)            (None, 1)                 129       \n",
      "                                                                 \n",
      "=================================================================\n",
      "Total params: 2,377,089\n",
      "Trainable params: 2,376,577\n",
      "Non-trainable params: 512\n",
      "_________________________________________________________________\n"
     ]
    }
   ],
   "execution_count": 43
  },
  {
   "metadata": {
    "ExecuteTime": {
     "end_time": "2024-04-23T15:40:33.044097Z",
     "start_time": "2024-04-23T15:40:32.329098Z"
    }
   },
   "cell_type": "code",
   "source": [
    "train_x = np.load('train_x.npy')\n",
    "valid_x = np.load('valid_x.npy')\n",
    "\n",
    "train_y = np.load('train_y.npy')\n",
    "valid_y = np.load('valid_y.npy')"
   ],
   "id": "ff6b59a766cb4cbc",
   "outputs": [],
   "execution_count": 38
  },
  {
   "metadata": {
    "ExecuteTime": {
     "end_time": "2024-04-23T15:41:52.316767Z",
     "start_time": "2024-04-23T15:41:52.311767Z"
    }
   },
   "cell_type": "code",
   "source": "print(train_x.shape)",
   "id": "1502bad2b0d05c6b",
   "outputs": [
    {
     "name": "stdout",
     "output_type": "stream",
     "text": [
      "(7680, 6, 6, 512)\n"
     ]
    }
   ],
   "execution_count": 41
  },
  {
   "metadata": {
    "ExecuteTime": {
     "end_time": "2024-04-23T15:43:53.189690Z",
     "start_time": "2024-04-23T15:43:53.180689Z"
    }
   },
   "cell_type": "code",
   "source": [
    "def train_model(model: tf.keras.Model, train_x, train_y, valid_x, valid_y, model_name):\n",
    "    # train_data = train_data.map(tf.keras.applications.vgg19.preprocess_input)\n",
    "    # validation_data = validation_data.map(tf.keras.applications.vgg19.preprocess_input)\n",
    "\n",
    "    saving_models = keras.callbacks.ModelCheckpoint(\"./saved_models/checkpoints/\"+model_name+\".{epoch:02d}.h5\")\n",
    "    tensorboard = keras.callbacks.TensorBoard(log_dir=\"./logs\", histogram_freq=1)\n",
    "    return model.fit(train_x, train_y, validation_data=(valid_x, valid_y), epochs=15, batch_size=64, callbacks=[saving_models, tensorboard])"
   ],
   "id": "bb476aa8daee5a",
   "outputs": [],
   "execution_count": 44
  },
  {
   "metadata": {
    "ExecuteTime": {
     "end_time": "2024-04-23T15:44:38.553502Z",
     "start_time": "2024-04-23T15:43:54.508689Z"
    }
   },
   "cell_type": "code",
   "source": "history_dense_1 = train_model(dense_1, train_x.reshape((7680, -1)), train_y.reshape((7680, -1)), valid_x.reshape((7680, -1)), valid_y.reshape((7680, -1)), model_name=\"dense_1\")",
   "id": "24ae2a698dfc00b4",
   "outputs": [
    {
     "name": "stdout",
     "output_type": "stream",
     "text": [
      "Epoch 1/15\n",
      "120/120 [==============================] - 4s 29ms/step - loss: 0.8648 - accuracy: 0.4988 - mse: 0.3081 - precision_8: 0.4780 - recall_8: 0.5049 - val_loss: 0.8920 - val_accuracy: 0.4906 - val_mse: 0.3168 - val_precision_8: 0.4720 - val_recall_8: 0.4958\n",
      "Epoch 2/15\n",
      "120/120 [==============================] - 3s 23ms/step - loss: 0.7303 - accuracy: 0.5642 - mse: 0.2605 - precision_8: 0.5430 - recall_8: 0.5682 - val_loss: 0.8483 - val_accuracy: 0.4905 - val_mse: 0.3048 - val_precision_8: 0.4724 - val_recall_8: 0.5050\n",
      "Epoch 3/15\n",
      "120/120 [==============================] - 3s 21ms/step - loss: 0.6480 - accuracy: 0.6293 - mse: 0.2270 - precision_8: 0.6091 - recall_8: 0.6305 - val_loss: 0.8454 - val_accuracy: 0.4900 - val_mse: 0.3044 - val_precision_8: 0.4703 - val_recall_8: 0.4750\n",
      "Epoch 4/15\n",
      "120/120 [==============================] - 3s 21ms/step - loss: 0.5828 - accuracy: 0.6874 - mse: 0.1994 - precision_8: 0.6688 - recall_8: 0.6879 - val_loss: 0.8315 - val_accuracy: 0.4966 - val_mse: 0.2993 - val_precision_8: 0.4775 - val_recall_8: 0.4901\n",
      "Epoch 5/15\n",
      "120/120 [==============================] - 3s 21ms/step - loss: 0.5289 - accuracy: 0.7434 - mse: 0.1760 - precision_8: 0.7267 - recall_8: 0.7439 - val_loss: 0.8394 - val_accuracy: 0.4940 - val_mse: 0.3021 - val_precision_8: 0.4735 - val_recall_8: 0.4609\n",
      "Epoch 6/15\n",
      "120/120 [==============================] - 3s 22ms/step - loss: 0.4806 - accuracy: 0.7921 - mse: 0.1551 - precision_8: 0.7767 - recall_8: 0.7942 - val_loss: 0.8488 - val_accuracy: 0.4902 - val_mse: 0.3053 - val_precision_8: 0.4711 - val_recall_8: 0.4853\n",
      "Epoch 7/15\n",
      "120/120 [==============================] - 3s 23ms/step - loss: 0.4335 - accuracy: 0.8346 - mse: 0.1348 - precision_8: 0.8187 - recall_8: 0.8409 - val_loss: 0.8492 - val_accuracy: 0.4975 - val_mse: 0.3043 - val_precision_8: 0.4779 - val_recall_8: 0.4801\n",
      "Epoch 8/15\n",
      "120/120 [==============================] - 3s 23ms/step - loss: 0.3921 - accuracy: 0.8689 - mse: 0.1172 - precision_8: 0.8574 - recall_8: 0.8711 - val_loss: 0.8616 - val_accuracy: 0.4961 - val_mse: 0.3079 - val_precision_8: 0.4770 - val_recall_8: 0.4917\n",
      "Epoch 9/15\n",
      "120/120 [==============================] - 3s 25ms/step - loss: 0.3534 - accuracy: 0.9023 - mse: 0.1013 - precision_8: 0.8942 - recall_8: 0.9029 - val_loss: 0.8774 - val_accuracy: 0.4913 - val_mse: 0.3122 - val_precision_8: 0.4718 - val_recall_8: 0.4793\n",
      "Epoch 10/15\n",
      "120/120 [==============================] - 3s 23ms/step - loss: 0.3210 - accuracy: 0.9201 - mse: 0.0885 - precision_8: 0.9114 - recall_8: 0.9228 - val_loss: 0.8787 - val_accuracy: 0.4992 - val_mse: 0.3114 - val_precision_8: 0.4803 - val_recall_8: 0.4982\n",
      "Epoch 11/15\n",
      "120/120 [==============================] - 3s 23ms/step - loss: 0.2897 - accuracy: 0.9395 - mse: 0.0764 - precision_8: 0.9334 - recall_8: 0.9407 - val_loss: 0.9010 - val_accuracy: 0.4943 - val_mse: 0.3167 - val_precision_8: 0.4739 - val_recall_8: 0.4639\n",
      "Epoch 12/15\n",
      "120/120 [==============================] - 3s 23ms/step - loss: 0.2584 - accuracy: 0.9560 - mse: 0.0645 - precision_8: 0.9501 - recall_8: 0.9584 - val_loss: 0.9152 - val_accuracy: 0.4917 - val_mse: 0.3209 - val_precision_8: 0.4728 - val_recall_8: 0.4920\n",
      "Epoch 13/15\n",
      "120/120 [==============================] - 3s 23ms/step - loss: 0.2311 - accuracy: 0.9677 - mse: 0.0549 - precision_8: 0.9648 - recall_8: 0.9679 - val_loss: 0.9200 - val_accuracy: 0.4964 - val_mse: 0.3207 - val_precision_8: 0.4777 - val_recall_8: 0.5004\n",
      "Epoch 14/15\n",
      "120/120 [==============================] - 3s 24ms/step - loss: 0.2068 - accuracy: 0.9743 - mse: 0.0467 - precision_8: 0.9718 - recall_8: 0.9747 - val_loss: 0.9318 - val_accuracy: 0.4993 - val_mse: 0.3220 - val_precision_8: 0.4807 - val_recall_8: 0.5042\n",
      "Epoch 15/15\n",
      "120/120 [==============================] - 3s 24ms/step - loss: 0.1842 - accuracy: 0.9803 - mse: 0.0393 - precision_8: 0.9780 - recall_8: 0.9810 - val_loss: 0.9588 - val_accuracy: 0.4939 - val_mse: 0.3288 - val_precision_8: 0.4746 - val_recall_8: 0.4863\n"
     ]
    }
   ],
   "execution_count": 45
  }
 ],
 "metadata": {
  "kernelspec": {
   "display_name": "Python 3",
   "language": "python",
   "name": "python3"
  },
  "language_info": {
   "codemirror_mode": {
    "name": "ipython",
    "version": 2
   },
   "file_extension": ".py",
   "mimetype": "text/x-python",
   "name": "python",
   "nbconvert_exporter": "python",
   "pygments_lexer": "ipython2",
   "version": "2.7.6"
  }
 },
 "nbformat": 4,
 "nbformat_minor": 5
}
