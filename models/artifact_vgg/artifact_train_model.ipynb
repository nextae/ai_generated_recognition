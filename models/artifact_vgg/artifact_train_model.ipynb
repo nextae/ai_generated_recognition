{
 "cells": [
  {
   "cell_type": "code",
   "id": "initial_id",
   "metadata": {
    "collapsed": true,
    "ExecuteTime": {
     "end_time": "2024-05-29T13:08:48.350588Z",
     "start_time": "2024-05-29T13:08:31.640341Z"
    }
   },
   "source": [
    "import keras\n",
    "import numpy as np\n",
    "import tensorflow as tf\n",
    "from keras import layers\n",
    "import matplotlib.pyplot as plt"
   ],
   "outputs": [],
   "execution_count": 1
  },
  {
   "cell_type": "code",
   "id": "fcddd77ca7a38807",
   "metadata": {
    "ExecuteTime": {
     "end_time": "2024-05-28T15:40:07.893060Z",
     "start_time": "2024-05-28T15:40:07.883063Z"
    }
   },
   "source": [
    "dir_path = \"../../datasets/artifact_features/vgg/\""
   ],
   "outputs": [],
   "execution_count": 2
  },
  {
   "cell_type": "code",
   "id": "ae5addfd7d89ddc9",
   "metadata": {
    "ExecuteTime": {
     "end_time": "2024-05-27T13:00:13.998399Z",
     "start_time": "2024-05-27T13:00:13.986400Z"
    }
   },
   "source": [
    "def load_data(data_range, data_type):\n",
    "    data_x = []\n",
    "    data_y = []\n",
    "    for i in range(*data_range):\n",
    "        data_x.append(np.load(f\"../../datasets/artifact_features/vgg/{data_type}_x_{i}.npy\"))\n",
    "        data_y.append(np.load(f\"../../datasets/artifact_features/vgg/{data_type}_y_{i}.npy\"))\n",
    "    data_x = np.concatenate(np.array(data_x), axis=0)\n",
    "    data_y = np.concatenate(np.array(data_y), axis=0)\n",
    "    return data_x, data_y"
   ],
   "outputs": [],
   "execution_count": 3
  },
  {
   "cell_type": "code",
   "id": "a8faa7905381bb5d",
   "metadata": {
    "ExecuteTime": {
     "end_time": "2024-05-27T13:00:14.013399Z",
     "start_time": "2024-05-27T13:00:14.002400Z"
    }
   },
   "source": [
    "def data_generator(file_paths, batch_size):\n",
    "    for file_path in file_paths:\n",
    "        data = np.load(dir_path+file_path)\n",
    "        for i in range(0, len(data), batch_size):\n",
    "            yield data[i:i + batch_size]"
   ],
   "outputs": [],
   "execution_count": 4
  },
  {
   "cell_type": "code",
   "id": "d7e3d287365f81b0",
   "metadata": {
    "ExecuteTime": {
     "end_time": "2024-05-27T13:00:14.029399Z",
     "start_time": "2024-05-27T13:00:14.016398Z"
    }
   },
   "source": [
    "def create_train_dataset(data_range, batch_size):\n",
    "    train_x_files = [f\"train_x_{i}.npy\" for i in range(*data_range)]\n",
    "    train_y_files = [f\"train_y_{i}.npy\" for i in range(*data_range)]\n",
    "    \n",
    "    train_dataset = tf.data.Dataset.from_generator(\n",
    "        lambda: data_generator(train_x_files, batch_size),\n",
    "        output_signature=tf.TensorSpec(shape=(None, 6, 6, 512), dtype=tf.float32)\n",
    "    )\n",
    "    train_labels_dataset = tf.data.Dataset.from_generator(\n",
    "        lambda: data_generator(train_y_files, batch_size),\n",
    "        output_signature=tf.TensorSpec(shape=(None, 1), dtype=tf.float32)\n",
    "    )\n",
    "    train = tf.data.Dataset.zip((train_dataset, train_labels_dataset))\n",
    "    train = train.shuffle(1000).prefetch(tf.data.experimental.AUTOTUNE)\n",
    "    \n",
    "    return train"
   ],
   "outputs": [],
   "execution_count": 5
  },
  {
   "cell_type": "code",
   "id": "c68b29e8d1560fe3",
   "metadata": {
    "ExecuteTime": {
     "end_time": "2024-05-27T13:00:14.045394Z",
     "start_time": "2024-05-27T13:00:14.032396Z"
    }
   },
   "source": [
    "valid_x_files = ['valid_x_1.npy', 'valid_x_2.npy']\n",
    "valid_y_files = ['valid_y_1.npy', 'valid_y_2.npy']"
   ],
   "outputs": [],
   "execution_count": 6
  },
  {
   "cell_type": "code",
   "id": "c2f49c7286725fcc",
   "metadata": {
    "ExecuteTime": {
     "end_time": "2024-05-27T13:00:14.061394Z",
     "start_time": "2024-05-27T13:00:14.046394Z"
    }
   },
   "source": [
    "batch_size = 256"
   ],
   "outputs": [],
   "execution_count": 7
  },
  {
   "cell_type": "code",
   "id": "89428cb6dcb841ae",
   "metadata": {
    "ExecuteTime": {
     "end_time": "2024-05-27T13:00:14.217393Z",
     "start_time": "2024-05-27T13:00:14.063398Z"
    }
   },
   "source": [
    "valid_dataset = tf.data.Dataset.from_generator(\n",
    "    lambda: data_generator(valid_x_files, batch_size),\n",
    "    output_signature=tf.TensorSpec(shape=(None, 6, 6, 512), dtype=tf.float32)  # Adjust shape according to your data\n",
    ")\n",
    "\n",
    "valid_labels_dataset = tf.data.Dataset.from_generator(\n",
    "    lambda: data_generator(valid_y_files, batch_size),\n",
    "    output_signature=tf.TensorSpec(shape=(None, 1), dtype=tf.float32)\n",
    ")"
   ],
   "outputs": [],
   "execution_count": 8
  },
  {
   "cell_type": "code",
   "id": "306a3bf71bb880f5",
   "metadata": {
    "ExecuteTime": {
     "end_time": "2024-05-27T13:00:14.233395Z",
     "start_time": "2024-05-27T13:00:14.218395Z"
    }
   },
   "source": [
    "valid = tf.data.Dataset.zip((valid_dataset, valid_labels_dataset))\n",
    "valid = valid.prefetch(tf.data.experimental.AUTOTUNE)"
   ],
   "outputs": [],
   "execution_count": 9
  },
  {
   "cell_type": "code",
   "id": "53c5ea4f2539402c",
   "metadata": {
    "ExecuteTime": {
     "end_time": "2024-05-27T13:37:04.533773Z",
     "start_time": "2024-05-27T13:37:04.523776Z"
    }
   },
   "source": [
    "def create_dense():\n",
    "    l2 = tf.keras.regularizers.l2(0.0005)\n",
    "    \n",
    "    model = keras.models.Sequential()\n",
    "    model.add(layers.Flatten(input_shape=(6,6,512)))\n",
    "    model.add(layers.Dropout(0.25))\n",
    "    model.add(layers.Dense(4096, activation='elu', kernel_regularizer=l2))\n",
    "    model.add(layers.Dropout(0.5))\n",
    "    model.add(layers.Dense(2048, activation='elu', kernel_regularizer=l2))\n",
    "    model.add(layers.Dropout(0.5))\n",
    "    model.add(layers.Dense(2048, activation='elu', kernel_regularizer=l2))\n",
    "    model.add(layers.Dropout(0.5))\n",
    "    model.add(layers.Dense(1, activation='sigmoid'))\n",
    "\n",
    "    adam = tf.keras.optimizers.Adam(learning_rate=1e-4)\n",
    "    model.compile(\n",
    "        optimizer=adam,\n",
    "        loss='binary_crossentropy',\n",
    "        metrics=['accuracy', tf.keras.metrics.Precision(), tf.keras.metrics.Recall()]\n",
    "    )\n",
    "    model.summary()\n",
    "    return model"
   ],
   "outputs": [],
   "execution_count": 16
  },
  {
   "cell_type": "code",
   "id": "226127782f472796",
   "metadata": {
    "ExecuteTime": {
     "end_time": "2024-05-27T13:37:04.674775Z",
     "start_time": "2024-05-27T13:37:04.544775Z"
    }
   },
   "source": [
    "dense_1 = create_dense()"
   ],
   "outputs": [
    {
     "name": "stdout",
     "output_type": "stream",
     "text": [
      "Model: \"sequential_1\"\n",
      "_________________________________________________________________\n",
      " Layer (type)                Output Shape              Param #   \n",
      "=================================================================\n",
      " flatten_1 (Flatten)         (None, 18432)             0         \n",
      "                                                                 \n",
      " dropout_6 (Dropout)         (None, 18432)             0         \n",
      "                                                                 \n",
      " dense_6 (Dense)             (None, 4096)              75501568  \n",
      "                                                                 \n",
      " dropout_7 (Dropout)         (None, 4096)              0         \n",
      "                                                                 \n",
      " dense_7 (Dense)             (None, 2048)              8390656   \n",
      "                                                                 \n",
      " dropout_8 (Dropout)         (None, 2048)              0         \n",
      "                                                                 \n",
      " dense_8 (Dense)             (None, 2048)              4196352   \n",
      "                                                                 \n",
      " dropout_9 (Dropout)         (None, 2048)              0         \n",
      "                                                                 \n",
      " dense_9 (Dense)             (None, 1)                 2049      \n",
      "                                                                 \n",
      "=================================================================\n",
      "Total params: 88,090,625\n",
      "Trainable params: 88,090,625\n",
      "Non-trainable params: 0\n",
      "_________________________________________________________________\n"
     ]
    }
   ],
   "execution_count": 17
  },
  {
   "cell_type": "code",
   "id": "daeaaddcf43e0bac",
   "metadata": {
    "ExecuteTime": {
     "end_time": "2024-05-27T13:00:51.790801Z",
     "start_time": "2024-05-27T13:00:51.771802Z"
    }
   },
   "source": [
    "def lr_schedule(epoch, lr):\n",
    "    if 5 > CUR_SUBSET > 0 and epoch % 5 == 0:\n",
    "        return lr*2/3\n",
    "    elif CUR_SUBSET > 4 and epoch % 3 == 0:\n",
    "        return lr*2/3\n",
    "    else:\n",
    "        return lr"
   ],
   "outputs": [],
   "execution_count": 12
  },
  {
   "cell_type": "code",
   "id": "8a426b7fd8166565",
   "metadata": {
    "ExecuteTime": {
     "end_time": "2024-05-27T13:36:21.933205Z",
     "start_time": "2024-05-27T13:01:04.790555Z"
    }
   },
   "source": [
    "history = []\n",
    "\n",
    "reduce_lr = tf.keras.callbacks.ReduceLROnPlateau(monitor='val_accuracy', \n",
    "                                                 factor=0.5,\n",
    "                                                 patience=3,\n",
    "                                                 verbose=1,\n",
    "                                                 min_lr=5e-6)\n",
    "\n",
    "scheduler = tf.keras.callbacks.LearningRateScheduler(schedule=lr_schedule, verbose=1)\n",
    "\n",
    "for i in range(9):\n",
    "    CUR_SUBSET = i\n",
    "    train = create_train_dataset((i*5, i*5+5), batch_size)\n",
    "    \n",
    "    checkpoint = tf.keras.callbacks.ModelCheckpoint(f\"./saved_models/checkpoints/0005l2_allsamples_{CUR_SUBSET+9}.h5\", save_best_only=True, monitor='val_accuracy', mode='max')\n",
    "    if i > 4:\n",
    "        history.append(dense_1.fit(train, validation_data=valid, epochs=3, callbacks=[scheduler, checkpoint]).history)\n",
    "    else:\n",
    "        history.append(dense_1.fit(train, validation_data=valid, epochs=5, callbacks=[scheduler, checkpoint]).history)    "
   ],
   "outputs": [
    {
     "name": "stdout",
     "output_type": "stream",
     "text": [
      "\n",
      "Epoch 1: LearningRateScheduler setting learning rate to 9.999999747378752e-05.\n",
      "Epoch 1/5\n",
      "640/640 [==============================] - 60s 77ms/step - loss: 10.4633 - accuracy: 0.5948 - precision: 0.5818 - recall: 0.5860 - val_loss: 9.4573 - val_accuracy: 0.6312 - val_precision: 0.8268 - val_recall: 0.3044 - lr: 1.0000e-04\n",
      "\n",
      "Epoch 2: LearningRateScheduler setting learning rate to 9.999999747378752e-05.\n",
      "Epoch 2/5\n",
      "640/640 [==============================] - 62s 78ms/step - loss: 9.2236 - accuracy: 0.6439 - precision: 0.6328 - recall: 0.6339 - val_loss: 8.8470 - val_accuracy: 0.6360 - val_precision: 0.8406 - val_recall: 0.3091 - lr: 1.0000e-04\n",
      "\n",
      "Epoch 3: LearningRateScheduler setting learning rate to 9.999999747378752e-05.\n",
      "Epoch 3/5\n",
      "640/640 [==============================] - 63s 80ms/step - loss: 8.5725 - accuracy: 0.6712 - precision: 0.6569 - recall: 0.6748 - val_loss: 8.1975 - val_accuracy: 0.6685 - val_precision: 0.8290 - val_recall: 0.4000 - lr: 1.0000e-04\n",
      "\n",
      "Epoch 4: LearningRateScheduler setting learning rate to 9.999999747378752e-05.\n",
      "Epoch 4/5\n",
      "640/640 [==============================] - 65s 85ms/step - loss: 7.8276 - accuracy: 0.6957 - precision: 0.6793 - recall: 0.7062 - val_loss: 7.4137 - val_accuracy: 0.6985 - val_precision: 0.8037 - val_recall: 0.5019 - lr: 1.0000e-04\n",
      "\n",
      "Epoch 5: LearningRateScheduler setting learning rate to 9.999999747378752e-05.\n",
      "Epoch 5/5\n",
      "640/640 [==============================] - 60s 78ms/step - loss: 6.9681 - accuracy: 0.7171 - precision: 0.6993 - recall: 0.7315 - val_loss: 6.5209 - val_accuracy: 0.7171 - val_precision: 0.7908 - val_recall: 0.5676 - lr: 1.0000e-04\n",
      "\n",
      "Epoch 1: LearningRateScheduler setting learning rate to 6.6666664982525e-05.\n",
      "Epoch 1/5\n",
      "640/640 [==============================] - 63s 81ms/step - loss: 6.1954 - accuracy: 0.7095 - precision: 0.6896 - recall: 0.7295 - val_loss: 5.8340 - val_accuracy: 0.7203 - val_precision: 0.7995 - val_recall: 0.5662 - lr: 6.6667e-05\n",
      "\n",
      "Epoch 2: LearningRateScheduler setting learning rate to 6.666666740784422e-05.\n",
      "Epoch 2/5\n",
      "640/640 [==============================] - 60s 76ms/step - loss: 5.4578 - accuracy: 0.7340 - precision: 0.7137 - recall: 0.7541 - val_loss: 5.1358 - val_accuracy: 0.7148 - val_precision: 0.8163 - val_recall: 0.5327 - lr: 6.6667e-05\n",
      "\n",
      "Epoch 3: LearningRateScheduler setting learning rate to 6.666666740784422e-05.\n",
      "Epoch 3/5\n",
      "640/640 [==============================] - 57s 75ms/step - loss: 4.6932 - accuracy: 0.7573 - precision: 0.7364 - recall: 0.7782 - val_loss: 4.3809 - val_accuracy: 0.7314 - val_precision: 0.8084 - val_recall: 0.5860 - lr: 6.6667e-05\n",
      "\n",
      "Epoch 4: LearningRateScheduler setting learning rate to 6.666666740784422e-05.\n",
      "Epoch 4/5\n",
      "640/640 [==============================] - 55s 72ms/step - loss: 3.9437 - accuracy: 0.7865 - precision: 0.7670 - recall: 0.8043 - val_loss: 3.6943 - val_accuracy: 0.7509 - val_precision: 0.7706 - val_recall: 0.6936 - lr: 6.6667e-05\n",
      "\n",
      "Epoch 5: LearningRateScheduler setting learning rate to 6.666666740784422e-05.\n",
      "Epoch 5/5\n",
      "640/640 [==============================] - 55s 73ms/step - loss: 3.2567 - accuracy: 0.8168 - precision: 0.7999 - recall: 0.8298 - val_loss: 3.0991 - val_accuracy: 0.7593 - val_precision: 0.7594 - val_recall: 0.7385 - lr: 6.6667e-05\n",
      "\n",
      "Epoch 1: LearningRateScheduler setting learning rate to 4.444444493856281e-05.\n",
      "Epoch 1/5\n",
      "640/640 [==============================] - 58s 75ms/step - loss: 2.8555 - accuracy: 0.7471 - precision: 0.7202 - recall: 0.7814 - val_loss: 2.6261 - val_accuracy: 0.7648 - val_precision: 0.7658 - val_recall: 0.7431 - lr: 4.4444e-05\n",
      "\n",
      "Epoch 2: LearningRateScheduler setting learning rate to 4.444444493856281e-05.\n",
      "Epoch 2/5\n",
      "640/640 [==============================] - 55s 69ms/step - loss: 2.4067 - accuracy: 0.7799 - precision: 0.7566 - recall: 0.8044 - val_loss: 2.2567 - val_accuracy: 0.7604 - val_precision: 0.7961 - val_recall: 0.6811 - lr: 4.4444e-05\n",
      "\n",
      "Epoch 3: LearningRateScheduler setting learning rate to 4.444444493856281e-05.\n",
      "Epoch 3/5\n",
      "640/640 [==============================] - 55s 72ms/step - loss: 2.0064 - accuracy: 0.8151 - precision: 0.7965 - recall: 0.8305 - val_loss: 1.9602 - val_accuracy: 0.7668 - val_precision: 0.7764 - val_recall: 0.7302 - lr: 4.4444e-05\n",
      "\n",
      "Epoch 4: LearningRateScheduler setting learning rate to 4.444444493856281e-05.\n",
      "Epoch 4/5\n",
      "640/640 [==============================] - 52s 67ms/step - loss: 1.6614 - accuracy: 0.8541 - precision: 0.8421 - recall: 0.8600 - val_loss: 1.7429 - val_accuracy: 0.7641 - val_precision: 0.7826 - val_recall: 0.7121 - lr: 4.4444e-05\n",
      "\n",
      "Epoch 5: LearningRateScheduler setting learning rate to 4.444444493856281e-05.\n",
      "Epoch 5/5\n",
      "640/640 [==============================] - 54s 68ms/step - loss: 1.3786 - accuracy: 0.8828 - precision: 0.8754 - recall: 0.8839 - val_loss: 1.5759 - val_accuracy: 0.7620 - val_precision: 0.7942 - val_recall: 0.6883 - lr: 4.4444e-05\n",
      "\n",
      "Epoch 1: LearningRateScheduler setting learning rate to 2.9629629959041875e-05.\n",
      "Epoch 1/5\n",
      "640/640 [==============================] - 60s 74ms/step - loss: 1.3920 - accuracy: 0.7720 - precision: 0.7461 - recall: 0.8006 - val_loss: 1.3043 - val_accuracy: 0.7791 - val_precision: 0.7814 - val_recall: 0.7571 - lr: 2.9630e-05\n",
      "\n",
      "Epoch 2: LearningRateScheduler setting learning rate to 2.9629629352712072e-05.\n",
      "Epoch 2/5\n",
      "640/640 [==============================] - 60s 73ms/step - loss: 1.1995 - accuracy: 0.8079 - precision: 0.7875 - recall: 0.8250 - val_loss: 1.1798 - val_accuracy: 0.7844 - val_precision: 0.7726 - val_recall: 0.7880 - lr: 2.9630e-05\n",
      "\n",
      "Epoch 3: LearningRateScheduler setting learning rate to 2.9629629352712072e-05.\n",
      "Epoch 3/5\n",
      "640/640 [==============================] - 57s 71ms/step - loss: 1.0295 - accuracy: 0.8453 - precision: 0.8317 - recall: 0.8523 - val_loss: 1.1110 - val_accuracy: 0.7800 - val_precision: 0.7823 - val_recall: 0.7580 - lr: 2.9630e-05\n",
      "\n",
      "Epoch 4: LearningRateScheduler setting learning rate to 2.9629629352712072e-05.\n",
      "Epoch 4/5\n",
      "640/640 [==============================] - 54s 68ms/step - loss: 0.8874 - accuracy: 0.8788 - precision: 0.8698 - recall: 0.8812 - val_loss: 1.0898 - val_accuracy: 0.7679 - val_precision: 0.8031 - val_recall: 0.6918 - lr: 2.9630e-05\n",
      "\n",
      "Epoch 5: LearningRateScheduler setting learning rate to 2.9629629352712072e-05.\n",
      "Epoch 5/5\n",
      "640/640 [==============================] - 56s 74ms/step - loss: 0.7770 - accuracy: 0.9030 - precision: 0.8978 - recall: 0.9020 - val_loss: 1.0757 - val_accuracy: 0.7746 - val_precision: 0.8041 - val_recall: 0.7085 - lr: 2.9630e-05\n",
      "\n",
      "Epoch 1: LearningRateScheduler setting learning rate to 1.975308623514138e-05.\n",
      "Epoch 1/5\n",
      "640/640 [==============================] - 59s 77ms/step - loss: 0.9648 - accuracy: 0.7692 - precision: 0.7409 - recall: 0.8066 - val_loss: 0.9135 - val_accuracy: 0.7876 - val_precision: 0.7816 - val_recall: 0.7810 - lr: 1.9753e-05\n",
      "\n",
      "Epoch 2: LearningRateScheduler setting learning rate to 1.975308623514138e-05.\n",
      "Epoch 2/5\n",
      "640/640 [==============================] - 57s 69ms/step - loss: 0.8761 - accuracy: 0.8013 - precision: 0.7796 - recall: 0.8235 - val_loss: 0.8782 - val_accuracy: 0.7868 - val_precision: 0.7946 - val_recall: 0.7565 - lr: 1.9753e-05\n",
      "\n",
      "Epoch 3: LearningRateScheduler setting learning rate to 1.975308623514138e-05.\n",
      "Epoch 3/5\n",
      "640/640 [==============================] - 54s 67ms/step - loss: 0.7885 - accuracy: 0.8357 - precision: 0.8204 - recall: 0.8469 - val_loss: 0.8647 - val_accuracy: 0.7843 - val_precision: 0.8082 - val_recall: 0.7288 - lr: 1.9753e-05\n",
      "\n",
      "Epoch 4: LearningRateScheduler setting learning rate to 1.975308623514138e-05.\n",
      "Epoch 4/5\n",
      "640/640 [==============================] - 56s 71ms/step - loss: 0.7032 - accuracy: 0.8696 - precision: 0.8598 - recall: 0.8738 - val_loss: 0.8639 - val_accuracy: 0.7876 - val_precision: 0.7936 - val_recall: 0.7605 - lr: 1.9753e-05\n",
      "\n",
      "Epoch 5: LearningRateScheduler setting learning rate to 1.975308623514138e-05.\n",
      "Epoch 5/5\n",
      "640/640 [==============================] - 53s 68ms/step - loss: 0.6343 - accuracy: 0.8962 - precision: 0.8912 - recall: 0.8956 - val_loss: 0.9044 - val_accuracy: 0.7809 - val_precision: 0.8070 - val_recall: 0.7215 - lr: 1.9753e-05\n",
      "\n",
      "Epoch 1: LearningRateScheduler setting learning rate to 1.3168724156760922e-05.\n",
      "Epoch 1/3\n",
      "640/640 [==============================] - 55s 69ms/step - loss: 0.8341 - accuracy: 0.7748 - precision: 0.7462 - recall: 0.8081 - val_loss: 0.7969 - val_accuracy: 0.7951 - val_precision: 0.7922 - val_recall: 0.7837 - lr: 1.3169e-05\n",
      "\n",
      "Epoch 2: LearningRateScheduler setting learning rate to 1.316872385359602e-05.\n",
      "Epoch 2/3\n",
      "640/640 [==============================] - 57s 73ms/step - loss: 0.7766 - accuracy: 0.8018 - precision: 0.7790 - recall: 0.8226 - val_loss: 0.7783 - val_accuracy: 0.7955 - val_precision: 0.8005 - val_recall: 0.7711 - lr: 1.3169e-05\n",
      "\n",
      "Epoch 3: LearningRateScheduler setting learning rate to 1.316872385359602e-05.\n",
      "Epoch 3/3\n",
      "640/640 [==============================] - 57s 70ms/step - loss: 0.7156 - accuracy: 0.8318 - precision: 0.8144 - recall: 0.8436 - val_loss: 0.7700 - val_accuracy: 0.7974 - val_precision: 0.7981 - val_recall: 0.7803 - lr: 1.3169e-05\n",
      "\n",
      "Epoch 1: LearningRateScheduler setting learning rate to 8.77914923573068e-06.\n",
      "Epoch 1/3\n",
      "640/640 [==============================] - 58s 74ms/step - loss: 0.7770 - accuracy: 0.7869 - precision: 0.7594 - recall: 0.8166 - val_loss: 0.7507 - val_accuracy: 0.8003 - val_precision: 0.8014 - val_recall: 0.7828 - lr: 8.7791e-06\n",
      "\n",
      "Epoch 2: LearningRateScheduler setting learning rate to 8.779149538895581e-06.\n",
      "Epoch 2/3\n",
      "640/640 [==============================] - 57s 73ms/step - loss: 0.7152 - accuracy: 0.8213 - precision: 0.8009 - recall: 0.8373 - val_loss: 0.7450 - val_accuracy: 0.8010 - val_precision: 0.7975 - val_recall: 0.7912 - lr: 8.7791e-06\n",
      "\n",
      "Epoch 3: LearningRateScheduler setting learning rate to 8.779149538895581e-06.\n",
      "Epoch 3/3\n",
      "640/640 [==============================] - 55s 69ms/step - loss: 0.6498 - accuracy: 0.8552 - precision: 0.8401 - recall: 0.8640 - val_loss: 0.7637 - val_accuracy: 0.7955 - val_precision: 0.8110 - val_recall: 0.7548 - lr: 8.7791e-06\n",
      "\n",
      "Epoch 1: LearningRateScheduler setting learning rate to 5.852766359263721e-06.\n",
      "Epoch 1/3\n",
      "640/640 [==============================] - 56s 71ms/step - loss: 0.7583 - accuracy: 0.7860 - precision: 0.7583 - recall: 0.8227 - val_loss: 0.7250 - val_accuracy: 0.8040 - val_precision: 0.7901 - val_recall: 0.8122 - lr: 5.8528e-06\n",
      "\n",
      "Epoch 2: LearningRateScheduler setting learning rate to 5.85276620768127e-06.\n",
      "Epoch 2/3\n",
      "640/640 [==============================] - 55s 68ms/step - loss: 0.7222 - accuracy: 0.8054 - precision: 0.7822 - recall: 0.8321 - val_loss: 0.7187 - val_accuracy: 0.8035 - val_precision: 0.8036 - val_recall: 0.7881 - lr: 5.8528e-06\n",
      "\n",
      "Epoch 3: LearningRateScheduler setting learning rate to 5.85276620768127e-06.\n",
      "Epoch 3/3\n",
      "640/640 [==============================] - 54s 71ms/step - loss: 0.6862 - accuracy: 0.8236 - precision: 0.8039 - recall: 0.8432 - val_loss: 0.7158 - val_accuracy: 0.8047 - val_precision: 0.7987 - val_recall: 0.7993 - lr: 5.8528e-06\n",
      "\n",
      "Epoch 1: LearningRateScheduler setting learning rate to 3.90184413845418e-06.\n",
      "Epoch 1/3\n",
      "640/640 [==============================] - 60s 73ms/step - loss: 0.7382 - accuracy: 0.7888 - precision: 0.7622 - recall: 0.8209 - val_loss: 0.7053 - val_accuracy: 0.8073 - val_precision: 0.7891 - val_recall: 0.8234 - lr: 3.9018e-06\n",
      "\n",
      "Epoch 2: LearningRateScheduler setting learning rate to 3.90184413845418e-06.\n",
      "Epoch 2/3\n",
      "640/640 [==============================] - 58s 74ms/step - loss: 0.7114 - accuracy: 0.8038 - precision: 0.7800 - recall: 0.8297 - val_loss: 0.6998 - val_accuracy: 0.8086 - val_precision: 0.8008 - val_recall: 0.8067 - lr: 3.9018e-06\n",
      "\n",
      "Epoch 3: LearningRateScheduler setting learning rate to 3.90184413845418e-06.\n",
      "Epoch 3/3\n",
      "640/640 [==============================] - 54s 67ms/step - loss: 0.6871 - accuracy: 0.8168 - precision: 0.7960 - recall: 0.8372 - val_loss: 0.7009 - val_accuracy: 0.8055 - val_precision: 0.8124 - val_recall: 0.7796 - lr: 3.9018e-06\n"
     ]
    }
   ],
   "execution_count": 13
  },
  {
   "cell_type": "code",
   "id": "324cea1ac8c73a88",
   "metadata": {
    "ExecuteTime": {
     "end_time": "2024-05-27T13:36:46.104542Z",
     "start_time": "2024-05-27T13:36:46.078537Z"
    }
   },
   "source": [
    "def plot(history: list):\n",
    "    merged = {}\n",
    "\n",
    "    for key in history[0].keys():\n",
    "        merged[key] = []\n",
    "        \n",
    "    for d in history:\n",
    "        for key in d.keys():\n",
    "            if any(x in key for x in [\"accuracy\", \"loss\", \"val_accuracy\", \"val_loss\"]):\n",
    "                merged[key].extend(d[key])\n",
    "    \n",
    "    fig, ax = plt.subplots(2, 1, figsize=(10, 10))\n",
    "    \n",
    "    ax[0].plot(merged[\"loss\"], \"r.\", label=\"Loss\")\n",
    "    ax[0].plot(merged[\"val_loss\"], \"b\", label=\"Val_loss\")\n",
    "    \n",
    "    ax[1].plot(merged[\"accuracy\"], \"g.\", label=\"Accuracy\")\n",
    "    ax[1].plot(merged[\"val_accuracy\"], \"y\", label=\"Val_accuracy\")\n",
    "    fig.legend()\n",
    "    plt.show()"
   ],
   "outputs": [],
   "execution_count": 14
  },
  {
   "cell_type": "code",
   "id": "416c16f719064e4a",
   "metadata": {
    "ExecuteTime": {
     "end_time": "2024-05-27T13:36:46.940838Z",
     "start_time": "2024-05-27T13:36:46.690489Z"
    }
   },
   "source": [
    "plot(history)"
   ],
   "outputs": [
    {
     "data": {
      "text/plain": [
       "<Figure size 1000x1000 with 2 Axes>"
      ],
      "image/png": "[encoded data removed]"
     },
     "metadata": {},
     "output_type": "display_data"
    }
   ],
   "execution_count": 15
  }
 ],
 "metadata": {
  "kernelspec": {
   "display_name": "Python 3",
   "language": "python",
   "name": "python3"
  },
  "language_info": {
   "codemirror_mode": {
    "name": "ipython",
    "version": 3
   },
   "file_extension": ".py",
   "mimetype": "text/x-python",
   "name": "python",
   "nbconvert_exporter": "python",
   "pygments_lexer": "ipython3",
   "version": "3.10.2"
  }
 },
 "nbformat": 4,
 "nbformat_minor": 5
}
