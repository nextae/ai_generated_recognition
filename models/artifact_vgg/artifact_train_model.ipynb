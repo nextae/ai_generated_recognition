{
 "cells": [
  {
   "cell_type": "code",
   "id": "initial_id",
   "metadata": {
    "collapsed": true,
    "ExecuteTime": {
     "end_time": "2024-05-22T13:34:03.178328Z",
     "start_time": "2024-05-22T13:34:01.197330Z"
    }
   },
   "source": [
    "import keras\n",
    "import numpy as np\n",
    "import tensorflow as tf\n",
    "from keras import layers"
   ],
   "outputs": [],
   "execution_count": 2
  },
  {
   "metadata": {
    "ExecuteTime": {
     "end_time": "2024-05-22T13:34:03.663329Z",
     "start_time": "2024-05-22T13:34:03.180329Z"
    }
   },
   "cell_type": "code",
   "source": [
    "train_x = np.load('train_x.npy')\n",
    "valid_x = np.load('valid_x.npy')\n",
    "\n",
    "train_y = np.load('train_y.npy')\n",
    "valid_y = np.load('valid_y.npy')"
   ],
   "id": "ff6b59a766cb4cbc",
   "outputs": [],
   "execution_count": 3
  },
  {
   "metadata": {
    "ExecuteTime": {
     "end_time": "2024-05-22T13:34:03.679328Z",
     "start_time": "2024-05-22T13:34:03.664329Z"
    }
   },
   "cell_type": "code",
   "source": [
    "def create_dense():\n",
    "    model = keras.models.Sequential()\n",
    "    model.add(layers.Flatten(input_shape=train_x.shape[1:]))\n",
    "    model.add(layers.Dropout(0.5))\n",
    "    model.add(layers.Dense(256, activation='relu'))\n",
    "    model.add(layers.Dropout(0.5))\n",
    "    model.add(layers.Dense(256, activation='relu'))\n",
    "    model.add(layers.Dropout(0.5))\n",
    "    model.add(layers.Dense(1, activation='sigmoid'))\n",
    "\n",
    "    adam = tf.keras.optimizers.Adam(learning_rate=1e-5)\n",
    "    model.compile(\n",
    "        optimizer=adam,\n",
    "        loss='binary_crossentropy',\n",
    "        metrics=['accuracy', 'mse', tf.keras.metrics.Precision(), tf.keras.metrics.Recall()]\n",
    "    )\n",
    "    model.summary()\n",
    "    return model"
   ],
   "id": "53c5ea4f2539402c",
   "outputs": [],
   "execution_count": 4
  },
  {
   "metadata": {
    "ExecuteTime": {
     "end_time": "2024-05-22T13:34:04.019330Z",
     "start_time": "2024-05-22T13:34:03.681329Z"
    }
   },
   "cell_type": "code",
   "source": "dense_1 = create_dense()",
   "id": "226127782f472796",
   "outputs": [
    {
     "name": "stdout",
     "output_type": "stream",
     "text": [
      "Model: \"sequential\"\n",
      "_________________________________________________________________\n",
      " Layer (type)                Output Shape              Param #   \n",
      "=================================================================\n",
      " flatten (Flatten)           (None, 18432)             0         \n",
      "                                                                 \n",
      " dropout (Dropout)           (None, 18432)             0         \n",
      "                                                                 \n",
      " dense (Dense)               (None, 256)               4718848   \n",
      "                                                                 \n",
      " dropout_1 (Dropout)         (None, 256)               0         \n",
      "                                                                 \n",
      " dense_1 (Dense)             (None, 256)               65792     \n",
      "                                                                 \n",
      " dropout_2 (Dropout)         (None, 256)               0         \n",
      "                                                                 \n",
      " dense_2 (Dense)             (None, 1)                 257       \n",
      "                                                                 \n",
      "=================================================================\n",
      "Total params: 4,784,897\n",
      "Trainable params: 4,784,897\n",
      "Non-trainable params: 0\n",
      "_________________________________________________________________\n"
     ]
    }
   ],
   "execution_count": 5
  },
  {
   "metadata": {
    "ExecuteTime": {
     "end_time": "2024-05-22T13:34:04.035328Z",
     "start_time": "2024-05-22T13:34:04.022329Z"
    }
   },
   "cell_type": "code",
   "source": [
    "print(f'Training x shape: {train_x.shape}\\n'\n",
    "      f'Training y shape: {train_y.shape}\\n'\n",
    "      f'Valid x shape: {valid_x.shape}\\n'\n",
    "      f'Valid y shape: {valid_y.shape}')"
   ],
   "id": "1502bad2b0d05c6b",
   "outputs": [
    {
     "name": "stdout",
     "output_type": "stream",
     "text": [
      "Training x shape: (8192, 6, 6, 512)\n",
      "Training y shape: (8192, 1)\n",
      "Valid x shape: (4096, 6, 6, 512)\n",
      "Valid y shape: (4096, 1)\n"
     ]
    }
   ],
   "execution_count": 6
  },
  {
   "metadata": {
    "ExecuteTime": {
     "end_time": "2024-05-22T13:34:04.051328Z",
     "start_time": "2024-05-22T13:34:04.037328Z"
    }
   },
   "cell_type": "code",
   "source": "print(train_y[:20])",
   "id": "8d6110f589e38789",
   "outputs": [
    {
     "name": "stdout",
     "output_type": "stream",
     "text": [
      "[[1.]\n",
      " [1.]\n",
      " [1.]\n",
      " [1.]\n",
      " [1.]\n",
      " [0.]\n",
      " [1.]\n",
      " [1.]\n",
      " [1.]\n",
      " [0.]\n",
      " [1.]\n",
      " [0.]\n",
      " [1.]\n",
      " [0.]\n",
      " [1.]\n",
      " [0.]\n",
      " [1.]\n",
      " [0.]\n",
      " [0.]\n",
      " [1.]]\n"
     ]
    }
   ],
   "execution_count": 7
  },
  {
   "metadata": {
    "ExecuteTime": {
     "end_time": "2024-05-22T13:34:10.102329Z",
     "start_time": "2024-05-22T13:34:10.090329Z"
    }
   },
   "cell_type": "code",
   "source": [
    "def train_model(model: tf.keras.Model, train_x, train_y, valid_x, valid_y, model_name):\n",
    "    saving_models = keras.callbacks.ModelCheckpoint(\"./saved_models/checkpoints/\" + model_name + \".{epoch:02d}.h5\")\n",
    "    \n",
    "    return model.fit(train_x, train_y, validation_data=(valid_x, valid_y), epochs=7, batch_size=256,\n",
    "                     callbacks=[saving_models])"
   ],
   "id": "bb476aa8daee5a",
   "outputs": [],
   "execution_count": 8
  },
  {
   "metadata": {},
   "cell_type": "markdown",
   "source": "### Tyle samo epok, te same dane - model się nie uczy - val_acc 50%",
   "id": "5138d40fbd25b5a4"
  },
  {
   "metadata": {
    "ExecuteTime": {
     "end_time": "2024-05-22T13:34:32.242330Z",
     "start_time": "2024-05-22T13:34:22.800329Z"
    }
   },
   "cell_type": "code",
   "source": "train_model(dense_1, train_x, train_y, valid_x, valid_y, model_name=\"dense\")",
   "id": "24ae2a698dfc00b4",
   "outputs": [
    {
     "name": "stdout",
     "output_type": "stream",
     "text": [
      "Epoch 1/7\n",
      "32/32 [==============================] - 2s 46ms/step - loss: 8.2683 - accuracy: 0.5034 - mse: 0.4743 - precision: 0.4875 - recall: 0.5451 - val_loss: 1.9471 - val_accuracy: 0.5701 - val_mse: 0.3615 - val_precision: 0.5478 - val_recall: 0.5766\n",
      "Epoch 2/7\n",
      "32/32 [==============================] - 1s 33ms/step - loss: 6.9556 - accuracy: 0.5328 - mse: 0.4433 - precision: 0.5151 - recall: 0.5620 - val_loss: 1.7602 - val_accuracy: 0.6082 - val_mse: 0.3278 - val_precision: 0.5915 - val_recall: 0.5827\n",
      "Epoch 3/7\n",
      "32/32 [==============================] - 1s 31ms/step - loss: 6.3882 - accuracy: 0.5387 - mse: 0.4363 - precision: 0.5210 - recall: 0.5575 - val_loss: 1.6681 - val_accuracy: 0.6277 - val_mse: 0.3139 - val_precision: 0.6122 - val_recall: 0.6032\n",
      "Epoch 4/7\n",
      "32/32 [==============================] - 1s 33ms/step - loss: 6.3026 - accuracy: 0.5380 - mse: 0.4368 - precision: 0.5198 - recall: 0.5706 - val_loss: 1.6139 - val_accuracy: 0.6353 - val_mse: 0.3067 - val_precision: 0.6190 - val_recall: 0.6164\n",
      "Epoch 5/7\n",
      "32/32 [==============================] - 1s 33ms/step - loss: 5.6960 - accuracy: 0.5536 - mse: 0.4213 - precision: 0.5354 - recall: 0.5737 - val_loss: 1.5603 - val_accuracy: 0.6421 - val_mse: 0.3006 - val_precision: 0.6296 - val_recall: 0.6103\n",
      "Epoch 6/7\n",
      "32/32 [==============================] - 1s 32ms/step - loss: 5.4305 - accuracy: 0.5668 - mse: 0.4084 - precision: 0.5470 - recall: 0.5997 - val_loss: 1.5146 - val_accuracy: 0.6450 - val_mse: 0.2964 - val_precision: 0.6377 - val_recall: 0.5960\n",
      "Epoch 7/7\n",
      "32/32 [==============================] - 1s 34ms/step - loss: 5.2165 - accuracy: 0.5625 - mse: 0.4097 - precision: 0.5451 - recall: 0.5694 - val_loss: 1.4581 - val_accuracy: 0.6436 - val_mse: 0.2919 - val_precision: 0.6316 - val_recall: 0.6103\n"
     ]
    },
    {
     "data": {
      "text/plain": [
       "<keras.callbacks.History at 0x1a3aa3958d0>"
      ]
     },
     "execution_count": 9,
     "metadata": {},
     "output_type": "execute_result"
    }
   ],
   "execution_count": 9
  }
 ],
 "metadata": {
  "kernelspec": {
   "display_name": "Python 3",
   "language": "python",
   "name": "python3"
  },
  "language_info": {
   "codemirror_mode": {
    "name": "ipython",
    "version": 2
   },
   "file_extension": ".py",
   "mimetype": "text/x-python",
   "name": "python",
   "nbconvert_exporter": "python",
   "pygments_lexer": "ipython2",
   "version": "2.7.6"
  }
 },
 "nbformat": 4,
 "nbformat_minor": 5
}
