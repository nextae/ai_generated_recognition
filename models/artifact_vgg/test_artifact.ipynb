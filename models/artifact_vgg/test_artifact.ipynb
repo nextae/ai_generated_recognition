{
 "cells": [
  {
   "metadata": {
    "ExecuteTime": {
     "end_time": "2024-04-18T19:24:49.498904Z",
     "start_time": "2024-04-18T19:24:47.268788Z"
    }
   },
   "cell_type": "code",
   "source": [
    "import tensorflow as tf\n",
    "from tensorflow.keras import backend as K\n",
    "import cv2\n",
    "import numpy as np\n",
    "\n",
    "tf.compat.v1.disable_eager_execution()"
   ],
   "id": "e67bf3ef19017dfa",
   "outputs": [],
   "execution_count": 1
  },
  {
   "metadata": {
    "ExecuteTime": {
     "end_time": "2024-04-18T19:24:53.677969Z",
     "start_time": "2024-04-18T19:24:50.266917Z"
    }
   },
   "cell_type": "code",
   "source": [
    "# Load model\n",
    "model = tf.keras.models.load_model(\"saved_models/checkpoints/artifact-1.06.h5\")"
   ],
   "id": "f7cb7a625c63fa07",
   "outputs": [
    {
     "name": "stdout",
     "output_type": "stream",
     "text": [
      "WARNING:tensorflow:From C:\\Users\\LZ\\Desktop\\Python\\ai_generated_recognition\\venv\\lib\\site-packages\\keras\\layers\\normalization\\batch_normalization.py:562: _colocate_with (from tensorflow.python.framework.ops) is deprecated and will be removed in a future version.\n",
      "Instructions for updating:\n",
      "Colocations handled automatically by placer.\n"
     ]
    }
   ],
   "execution_count": 2
  },
  {
   "metadata": {
    "ExecuteTime": {
     "end_time": "2024-04-18T19:39:13.673715Z",
     "start_time": "2024-04-18T19:39:13.652716Z"
    }
   },
   "cell_type": "code",
   "source": [
    "# Load image\n",
    "def predict_with_heatmap(image_path):\n",
    "\n",
    "    I = cv2.imread(image_path)\n",
    "    I_oryg = I.copy()\n",
    "    I = cv2.resize(I, (200, 200), interpolation=cv2.INTER_AREA)\n",
    "    I = cv2.cvtColor(I, cv2.COLOR_BGR2RGB)\n",
    "    # Predict and print result\n",
    "    preds = model.predict(np.array([I]))\n",
    "    print(round(preds[0][0], 2))\n",
    "    I = cv2.cvtColor(I, cv2.COLOR_RGB2BGR)\n",
    "    \n",
    "    # Heatmap below\n",
    "    x = np.array([I])\n",
    "    model_output = model.output[:, np.argmax(preds[0])]\n",
    "    \n",
    "    last_conv_layer = model.get_layer('block5_conv4')\n",
    "    grads = tf.gradients(model_output, last_conv_layer.output)[0]\n",
    "    pooled_grads = K.mean(grads, axis=(0, 1, 2))\n",
    "    \n",
    "    iterate = K.function([model.input], [pooled_grads, last_conv_layer.output[0]])\n",
    "    pooled_grads_value, conv_layer_output_value = iterate([x])\n",
    "    \n",
    "    for i in range(512):\n",
    "        conv_layer_output_value[:, :, i] *= pooled_grads_value[i]\n",
    "    \n",
    "    heatmap = np.mean(conv_layer_output_value, axis=-1)\n",
    "    heatmap = np.maximum(heatmap, 0)\n",
    "    heatmap /= np.max(heatmap)\n",
    "    \n",
    "    heatmap = cv2.resize(heatmap, (I_oryg.shape[1], I_oryg.shape[0]))\n",
    "    \n",
    "    heatmap = np.uint8(255 * heatmap)\n",
    "    heatmap = cv2.applyColorMap(heatmap, cv2.COLORMAP_HOT)\n",
    "    # Show heatmap on top of image\n",
    "    \n",
    "    I_oryg = cv2.cvtColor(I_oryg, cv2.COLOR_BGR2GRAY)\n",
    "    I_oryg = cv2.cvtColor(I_oryg, cv2.COLOR_GRAY2BGR)\n",
    "    \n",
    "    superimposed_img = heatmap * 0.3 + I_oryg * 0.7\n",
    "    superimposed_img = superimposed_img.astype('uint8')\n",
    "    \n",
    "    cv2.namedWindow(\"output\", cv2.WINDOW_NORMAL)\n",
    "    cv2.imshow(\"output\", superimposed_img)\n",
    "    cv2.waitKey()\n",
    "    cv2.destroyAllWindows()"
   ],
   "id": "1ab25e64da92526",
   "outputs": [],
   "execution_count": 28
  },
  {
   "metadata": {
    "ExecuteTime": {
     "end_time": "2024-04-18T20:02:14.845619Z",
     "start_time": "2024-04-18T20:02:09.266023Z"
    }
   },
   "cell_type": "code",
   "source": "predict_with_heatmap(\"../../datasets/google_graphics/real/img000041-coco-1036.jpg   \")",
   "id": "52e3067440f4d86c",
   "outputs": [
    {
     "name": "stdout",
     "output_type": "stream",
     "text": [
      "0.92\n"
     ]
    }
   ],
   "execution_count": 73
  }
 ],
 "metadata": {
  "kernelspec": {
   "display_name": "Python 3",
   "language": "python",
   "name": "python3"
  },
  "language_info": {
   "codemirror_mode": {
    "name": "ipython",
    "version": 2
   },
   "file_extension": ".py",
   "mimetype": "text/x-python",
   "name": "python",
   "nbconvert_exporter": "python",
   "pygments_lexer": "ipython2",
   "version": "2.7.6"
  }
 },
 "nbformat": 4,
 "nbformat_minor": 5
}
