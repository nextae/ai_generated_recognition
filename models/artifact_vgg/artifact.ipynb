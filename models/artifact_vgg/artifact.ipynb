{
 "cells": [
  {
   "cell_type": "code",
   "id": "initial_id",
   "metadata": {
    "collapsed": true,
    "ExecuteTime": {
     "end_time": "2024-05-06T17:08:38.285850Z",
     "start_time": "2024-05-06T17:08:35.414837Z"
    }
   },
   "source": [
    "import tensorflow as tf\n",
    "import keras\n",
    "from keras import layers"
   ],
   "outputs": [],
   "execution_count": 1
  },
  {
   "metadata": {
    "ExecuteTime": {
     "end_time": "2024-05-06T17:08:38.301849Z",
     "start_time": "2024-05-06T17:08:38.286850Z"
    }
   },
   "cell_type": "code",
   "source": [
    "def load_data_artifact(dir_path):\n",
    "    train, valid = tf.keras.preprocessing.image_dataset_from_directory(\n",
    "        dir_path,\n",
    "        label_mode='binary',\n",
    "        image_size=[200, 200],\n",
    "        validation_split=0.2,\n",
    "        subset='both',\n",
    "        shuffle=True,\n",
    "        seed=42,\n",
    "        interpolation='area',\n",
    "        batch_size=256\n",
    "    )\n",
    "\n",
    "    return train, valid"
   ],
   "id": "34a3775e3e6b1ffc",
   "outputs": [],
   "execution_count": 2
  },
  {
   "metadata": {
    "ExecuteTime": {
     "end_time": "2024-05-06T17:08:38.316850Z",
     "start_time": "2024-05-06T17:08:38.302852Z"
    }
   },
   "cell_type": "code",
   "source": [
    "def create_model():\n",
    "    backbone = keras.applications.VGG19(False, 'imagenet', input_shape=(200, 200, 3))\n",
    "\n",
    "    for layer in backbone.layers:\n",
    "        layer.trainable = False\n",
    "\n",
    "    flatten = layers.Flatten()(backbone.output)\n",
    "    dense = layers.Dense(128, activation='elu')(flatten)\n",
    "    norm = layers.BatchNormalization()(dense)\n",
    "\n",
    "    dense = layers.Dense(128, activation='elu')(norm)\n",
    "    norm = layers.BatchNormalization()(dense)\n",
    "\n",
    "    dense = layers.Dense(1, activation='sigmoid')(norm)\n",
    "\n",
    "    adam = tf.keras.optimizers.Adam(learning_rate=1e-5)\n",
    "    model = tf.keras.Model(inputs=backbone.input, outputs=dense)\n",
    "    model.compile(\n",
    "        optimizer=adam,\n",
    "        loss='binary_crossentropy',\n",
    "        metrics=['accuracy', 'mse', tf.keras.metrics.Precision(), tf.keras.metrics.Recall()]\n",
    "    )\n",
    "    model.summary()\n",
    "    return model"
   ],
   "id": "57a88e3426cefe66",
   "outputs": [],
   "execution_count": 3
  },
  {
   "metadata": {
    "ExecuteTime": {
     "end_time": "2024-05-06T17:08:38.331849Z",
     "start_time": "2024-05-06T17:08:38.317852Z"
    }
   },
   "cell_type": "code",
   "source": [
    "def train_model(model: tf.keras.Model, train_data, validation_data, model_name):\n",
    "    # train_data = train_data.map(tf.keras.applications.vgg19.preprocess_input)\n",
    "    # validation_data = validation_data.map(tf.keras.applications.vgg19.preprocess_input)\n",
    "\n",
    "    saving_models = keras.callbacks.ModelCheckpoint(\"./saved_models/checkpoints/\"+model_name+\".{epoch:02d}.h5\")\n",
    "    tensorboard = keras.callbacks.TensorBoard(log_dir=\"./logs\", histogram_freq=1)\n",
    "    return model.fit(train_data, validation_data=validation_data, epochs=7, batch_size=256, callbacks=[saving_models, tensorboard])"
   ],
   "id": "bdb835272cc8118d",
   "outputs": [],
   "execution_count": 4
  },
  {
   "metadata": {
    "ExecuteTime": {
     "end_time": "2024-05-06T17:08:38.942851Z",
     "start_time": "2024-05-06T17:08:38.332850Z"
    }
   },
   "cell_type": "code",
   "source": "model = create_model()",
   "id": "d4098ffd8216e345",
   "outputs": [
    {
     "name": "stdout",
     "output_type": "stream",
     "text": [
      "Model: \"model\"\n",
      "_________________________________________________________________\n",
      " Layer (type)                Output Shape              Param #   \n",
      "=================================================================\n",
      " input_1 (InputLayer)        [(None, 200, 200, 3)]     0         \n",
      "                                                                 \n",
      " block1_conv1 (Conv2D)       (None, 200, 200, 64)      1792      \n",
      "                                                                 \n",
      " block1_conv2 (Conv2D)       (None, 200, 200, 64)      36928     \n",
      "                                                                 \n",
      " block1_pool (MaxPooling2D)  (None, 100, 100, 64)      0         \n",
      "                                                                 \n",
      " block2_conv1 (Conv2D)       (None, 100, 100, 128)     73856     \n",
      "                                                                 \n",
      " block2_conv2 (Conv2D)       (None, 100, 100, 128)     147584    \n",
      "                                                                 \n",
      " block2_pool (MaxPooling2D)  (None, 50, 50, 128)       0         \n",
      "                                                                 \n",
      " block3_conv1 (Conv2D)       (None, 50, 50, 256)       295168    \n",
      "                                                                 \n",
      " block3_conv2 (Conv2D)       (None, 50, 50, 256)       590080    \n",
      "                                                                 \n",
      " block3_conv3 (Conv2D)       (None, 50, 50, 256)       590080    \n",
      "                                                                 \n",
      " block3_conv4 (Conv2D)       (None, 50, 50, 256)       590080    \n",
      "                                                                 \n",
      " block3_pool (MaxPooling2D)  (None, 25, 25, 256)       0         \n",
      "                                                                 \n",
      " block4_conv1 (Conv2D)       (None, 25, 25, 512)       1180160   \n",
      "                                                                 \n",
      " block4_conv2 (Conv2D)       (None, 25, 25, 512)       2359808   \n",
      "                                                                 \n",
      " block4_conv3 (Conv2D)       (None, 25, 25, 512)       2359808   \n",
      "                                                                 \n",
      " block4_conv4 (Conv2D)       (None, 25, 25, 512)       2359808   \n",
      "                                                                 \n",
      " block4_pool (MaxPooling2D)  (None, 12, 12, 512)       0         \n",
      "                                                                 \n",
      " block5_conv1 (Conv2D)       (None, 12, 12, 512)       2359808   \n",
      "                                                                 \n",
      " block5_conv2 (Conv2D)       (None, 12, 12, 512)       2359808   \n",
      "                                                                 \n",
      " block5_conv3 (Conv2D)       (None, 12, 12, 512)       2359808   \n",
      "                                                                 \n",
      " block5_conv4 (Conv2D)       (None, 12, 12, 512)       2359808   \n",
      "                                                                 \n",
      " block5_pool (MaxPooling2D)  (None, 6, 6, 512)         0         \n",
      "                                                                 \n",
      " flatten (Flatten)           (None, 18432)             0         \n",
      "                                                                 \n",
      " dense (Dense)               (None, 128)               2359424   \n",
      "                                                                 \n",
      " batch_normalization (BatchN  (None, 128)              512       \n",
      " ormalization)                                                   \n",
      "                                                                 \n",
      " dense_1 (Dense)             (None, 128)               16512     \n",
      "                                                                 \n",
      " batch_normalization_1 (Batc  (None, 128)              512       \n",
      " hNormalization)                                                 \n",
      "                                                                 \n",
      " dense_2 (Dense)             (None, 1)                 129       \n",
      "                                                                 \n",
      "=================================================================\n",
      "Total params: 22,401,473\n",
      "Trainable params: 2,376,577\n",
      "Non-trainable params: 20,024,896\n",
      "_________________________________________________________________\n"
     ]
    }
   ],
   "execution_count": 5
  },
  {
   "metadata": {
    "ExecuteTime": {
     "end_time": "2024-05-06T17:10:38.061987Z",
     "start_time": "2024-05-06T17:08:38.944852Z"
    }
   },
   "cell_type": "code",
   "source": "train, valid = load_data_artifact(\"../../datasets/artifact\")",
   "id": "e9b6b7e86ae21c88",
   "outputs": [
    {
     "name": "stdout",
     "output_type": "stream",
     "text": [
      "Found 1934329 files belonging to 2 classes.\n",
      "Using 1547464 files for training.\n",
      "Using 386865 files for validation.\n"
     ]
    }
   ],
   "execution_count": 6
  },
  {
   "metadata": {
    "ExecuteTime": {
     "end_time": "2024-05-06T17:10:38.166995Z",
     "start_time": "2024-05-06T17:10:38.062989Z"
    }
   },
   "cell_type": "code",
   "source": [
    "train_small = train.take(32).map(lambda x, y: (tf.keras.applications.vgg19.preprocess_input(x), y))\n",
    "valid_small = valid.take(16).map(lambda x, y: (tf.keras.applications.vgg19.preprocess_input(x), y))"
   ],
   "id": "12c273cd34f3dff4",
   "outputs": [],
   "execution_count": 7
  },
  {
   "metadata": {
    "ExecuteTime": {
     "end_time": "2024-05-06T17:24:17.225921Z",
     "start_time": "2024-05-06T17:12:10.688318Z"
    }
   },
   "cell_type": "code",
   "source": "history = train_model(model, train_small, valid_small, \"artifact-2-2\")",
   "id": "31c9a27e342d975d",
   "outputs": [
    {
     "name": "stdout",
     "output_type": "stream",
     "text": [
      "Epoch 1/7\n",
      "32/32 [==============================] - 106s 3s/step - loss: 0.7973 - accuracy: 0.5493 - mse: 0.2827 - precision: 0.5298 - recall: 0.5269 - val_loss: 0.8537 - val_accuracy: 0.5933 - val_mse: 0.2771 - val_precision: 0.5576 - val_recall: 0.7217\n",
      "Epoch 2/7\n",
      "32/32 [==============================] - 104s 3s/step - loss: 0.6646 - accuracy: 0.6464 - mse: 0.2296 - precision: 0.6483 - recall: 0.5984 - val_loss: 0.7621 - val_accuracy: 0.6223 - val_mse: 0.2534 - val_precision: 0.5825 - val_recall: 0.7411\n",
      "Epoch 3/7\n",
      "32/32 [==============================] - 105s 3s/step - loss: 0.6111 - accuracy: 0.6797 - mse: 0.2091 - precision: 0.6747 - recall: 0.6328 - val_loss: 0.7208 - val_accuracy: 0.6362 - val_mse: 0.2421 - val_precision: 0.5961 - val_recall: 0.7416\n",
      "Epoch 4/7\n",
      "32/32 [==============================] - 102s 3s/step - loss: 0.5693 - accuracy: 0.7035 - mse: 0.1931 - precision: 0.7099 - recall: 0.6541 - val_loss: 0.6906 - val_accuracy: 0.6445 - val_mse: 0.2332 - val_precision: 0.6073 - val_recall: 0.7257\n",
      "Epoch 5/7\n",
      "32/32 [==============================] - 104s 3s/step - loss: 0.5274 - accuracy: 0.7361 - mse: 0.1765 - precision: 0.7430 - recall: 0.6903 - val_loss: 0.6699 - val_accuracy: 0.6582 - val_mse: 0.2269 - val_precision: 0.6244 - val_recall: 0.7150\n",
      "Epoch 6/7\n",
      "32/32 [==============================] - 102s 3s/step - loss: 0.5005 - accuracy: 0.7535 - mse: 0.1657 - precision: 0.7614 - recall: 0.7085 - val_loss: 0.6578 - val_accuracy: 0.6631 - val_mse: 0.2228 - val_precision: 0.6317 - val_recall: 0.7079\n",
      "Epoch 7/7\n",
      "32/32 [==============================] - 105s 3s/step - loss: 0.4734 - accuracy: 0.7808 - mse: 0.1545 - precision: 0.7933 - recall: 0.7353 - val_loss: 0.6479 - val_accuracy: 0.6680 - val_mse: 0.2195 - val_precision: 0.6400 - val_recall: 0.6982\n"
     ]
    }
   ],
   "execution_count": 8
  }
 ],
 "metadata": {
  "kernelspec": {
   "display_name": "Python 3",
   "language": "python",
   "name": "python3"
  },
  "language_info": {
   "codemirror_mode": {
    "name": "ipython",
    "version": 2
   },
   "file_extension": ".py",
   "mimetype": "text/x-python",
   "name": "python",
   "nbconvert_exporter": "python",
   "pygments_lexer": "ipython2",
   "version": "2.7.6"
  }
 },
 "nbformat": 4,
 "nbformat_minor": 5
}
